{
 "cells": [
  {
   "cell_type": "code",
   "execution_count": null,
   "id": "1851f146",
   "metadata": {
    "deletable": false,
    "editable": false
   },
   "outputs": [],
   "source": [
    "%pip install -q otter-grader"
   ]
  },
  {
   "cell_type": "code",
   "execution_count": null,
   "id": "fc7c28a0",
   "metadata": {
    "deletable": false,
    "editable": false
   },
   "outputs": [],
   "source": [
    "# Initialize Otter\n",
    "import otter\n",
    "grader = otter.Notebook()"
   ]
  },
  {
   "cell_type": "markdown",
   "id": "e9afe9fb-089d-4794-af54-f5213b8c425f",
   "metadata": {},
   "source": [
    "# Домашнее задание 1. Разведочный анализ данных"
   ]
  },
  {
   "cell_type": "code",
   "execution_count": null,
   "id": "1077289d",
   "metadata": {},
   "outputs": [],
   "source": [
    "import numpy as np\n",
    "import pandas as pd\n",
    "import matplotlib.pyplot as plt\n",
    "import seaborn as sns\n",
    "from scipy import stats"
   ]
  },
  {
   "cell_type": "markdown",
   "id": "4c3cc1aa",
   "metadata": {
    "deletable": false,
    "editable": false
   },
   "source": [
    "### Задание 1. Разведочный анализ данных\n",
    "\n",
    "Цель задания — проверить, насколько уверенно вы владеете инструментами Pandas и Seaborn. Вам предстоит ответить на ряд вопросов по данным."
   ]
  },
  {
   "cell_type": "markdown",
   "id": "988e0011",
   "metadata": {
    "deletable": false,
    "editable": false
   },
   "source": [
    "**1.1.** Откройте файл `data.csv` и запишите данные из него в переменную `data`. Определите количество строк и столбцов."
   ]
  },
  {
   "cell_type": "code",
   "execution_count": null,
   "id": "0f295e7e",
   "metadata": {
    "tags": [
     "otter_answer_cell"
    ]
   },
   "outputs": [],
   "source": [
    "data = ...\n",
    "\n",
    "shape = ...\n",
    "print(f\"{shape = }\")\n",
    "\n",
    "data.head()"
   ]
  },
  {
   "cell_type": "markdown",
   "id": "59809852",
   "metadata": {
    "deletable": false,
    "editable": false
   },
   "source": [
    "**1.2.** Проверьте, есть ли в данных пропущенные значения, и при наличии удалите их."
   ]
  },
  {
   "cell_type": "code",
   "execution_count": null,
   "id": "07881b13",
   "metadata": {
    "tags": [
     "otter_answer_cell"
    ]
   },
   "outputs": [],
   "source": [
    "missing_values_per_column = ...\n",
    "missing_values_per_column"
   ]
  },
  {
   "cell_type": "markdown",
   "id": "e6054995",
   "metadata": {
    "deletable": false,
    "editable": false
   },
   "source": [
    "**1.3.** Найдите нормированное распределение значений в столбце `smoking`."
   ]
  },
  {
   "cell_type": "code",
   "execution_count": null,
   "id": "ccd59481",
   "metadata": {
    "tags": [
     "otter_answer_cell"
    ]
   },
   "outputs": [],
   "source": [
    "smoking_distribution = ...\n",
    "smoking_distribution"
   ]
  },
  {
   "cell_type": "markdown",
   "id": "57c4f182",
   "metadata": {
    "deletable": false,
    "editable": false
   },
   "source": [
    "**1.4.** Запишите в переменную `smokers_over_40` подвыборку данных с курящими людьми старше 40 лет (`>`)."
   ]
  },
  {
   "cell_type": "code",
   "execution_count": null,
   "id": "93a4962f",
   "metadata": {
    "tags": [
     "otter_answer_cell"
    ]
   },
   "outputs": [],
   "source": [
    "smokers_over_40 = ...\n",
    "smokers_over_40"
   ]
  },
  {
   "cell_type": "markdown",
   "id": "86e56311",
   "metadata": {
    "deletable": false,
    "editable": false
   },
   "source": [
    "**1.5.** Найдите 5 признаков, наиболее скоррелированных с признаком `Cholesterol`."
   ]
  },
  {
   "cell_type": "code",
   "execution_count": null,
   "id": "54c6c8b9",
   "metadata": {
    "tags": [
     "otter_answer_cell"
    ]
   },
   "outputs": [],
   "source": [
    "# fmt: off\n",
    "cholesterol_top_correlated = ...\n",
    "cholesterol_top_correlated\n",
    "# fmt: on"
   ]
  },
  {
   "cell_type": "markdown",
   "id": "2dbe7fe8",
   "metadata": {
    "deletable": false,
    "editable": false
   },
   "source": [
    "Постройте тепловую карту корреляций по первым 10 признакам."
   ]
  },
  {
   "cell_type": "code",
   "execution_count": null,
   "id": "509c3d06",
   "metadata": {
    "tags": [
     "otter_answer_cell"
    ]
   },
   "outputs": [],
   "source": [
    "..."
   ]
  },
  {
   "cell_type": "markdown",
   "id": "0b055363",
   "metadata": {
    "deletable": false,
    "editable": false
   },
   "source": [
    "**1.6.** Постройте гистограмму распределения признака `Gtp` с разделением по признаку `smoking`."
   ]
  },
  {
   "cell_type": "code",
   "execution_count": null,
   "id": "ca9dd583",
   "metadata": {
    "tags": [
     "otter_answer_cell"
    ]
   },
   "outputs": [],
   "source": [
    "..."
   ]
  },
  {
   "cell_type": "markdown",
   "id": "7a75fe31",
   "metadata": {
    "deletable": false,
    "editable": false
   },
   "source": [
    "Будем честны, гистограмма выглядит не очень. Постарайтесь исправить ситуацию."
   ]
  },
  {
   "cell_type": "code",
   "execution_count": null,
   "id": "7e1f6fc2",
   "metadata": {
    "tags": [
     "otter_answer_cell"
    ]
   },
   "outputs": [],
   "source": [
    "..."
   ]
  },
  {
   "cell_type": "markdown",
   "id": "2bd9fb38",
   "metadata": {
    "deletable": false,
    "editable": false
   },
   "source": [
    "**1.7.** Сгруппируйте данные по признаку `smoking` и определите:\n",
    "- размер каждой группы (`group_size`)\n",
    "- средний возраст людей в группе (`avg_age`)\n",
    "- стандартное отклонение возраста в каждой группе (`std_age`).\n",
    "\n",
    "Округлите дробные числа до одного знака после запятой.\n",
    "\n",
    "_Points:_ 2"
   ]
  },
  {
   "cell_type": "code",
   "execution_count": null,
   "id": "b2590744",
   "metadata": {
    "tags": [
     "otter_answer_cell"
    ]
   },
   "outputs": [],
   "source": [
    "# fmt: off\n",
    "grouped = ...\n",
    "grouped\n",
    "# fmt: on"
   ]
  },
  {
   "cell_type": "code",
   "execution_count": null,
   "id": "2de3f4dc",
   "metadata": {
    "deletable": false,
    "editable": false
   },
   "outputs": [],
   "source": [
    "grader.check(\"Task1\")"
   ]
  },
  {
   "cell_type": "markdown",
   "id": "5301bb76",
   "metadata": {
    "deletable": false,
    "editable": false
   },
   "source": [
    "### Задание 2. Feature engineering\n",
    "\n",
    "Полезный навык при работе с данными — **умение создавать новые признаки на основе существующих** (иногда они оказываются даже более информативными, чем исходные).\n",
    "\n",
    "Представим задачу: нужно предсказать, отменит ли клиент бронирование отеля. У нас есть два признака — дата бронирования и дата заезда. Оба, конечно, важны. Например, по дате заезда можно понять, приходится ли бронирование на туристический сезон.\n",
    "\n",
    "А еще можно посчитать разность между ними, то есть количество дней до заезда. В исходных данных такого признака нет, но часто он может оказаться куда полезнее самих дат. Процесс генерации подобных признаков называется _feature engineering_. Давайте посмотрим, как это работает на практике.\n",
    "\n",
    "В нашем датасете есть признаки `height(cm)` и `weight(kg)`. С их помощью можно рассчитать индекс массы тела (Body Mass Index, BMI):\n",
    "\n",
    "$$\n",
    "\\text{BMI} = \\frac{\\text{weight (kg)}}{\\text{height}^2\\text{ (m)}}.\n",
    "$$"
   ]
  },
  {
   "cell_type": "code",
   "execution_count": null,
   "id": "db708cf6",
   "metadata": {
    "tags": [
     "otter_answer_cell"
    ]
   },
   "outputs": [],
   "source": [
    "data[\"BMI\"] = ..."
   ]
  },
  {
   "cell_type": "markdown",
   "id": "99980964",
   "metadata": {
    "deletable": false,
    "editable": false
   },
   "source": [
    "Работать с численным BMI тоже не всегда удобно. Давайте теперь разобьем его на категории: ниже 18.5 — `Underweight`, от 18.5 до 25 — `Healthy`, от 25 до 30 — `Overweight`, и выше 30 — `Obesity`.\n",
    "\n",
    "**Подсказка:** используйте функцию `pd.cut(...)`."
   ]
  },
  {
   "cell_type": "code",
   "execution_count": null,
   "id": "1a05fd74",
   "metadata": {
    "tags": [
     "otter_answer_cell"
    ]
   },
   "outputs": [],
   "source": [
    "\n",
    "data[\"BMI_category\"] = ...\n"
   ]
  },
  {
   "cell_type": "markdown",
   "id": "0f7aadff",
   "metadata": {
    "deletable": false,
    "editable": false
   },
   "source": [
    "Теперь постройте `boxplot`, который покажет распределение признака `systolic` для разных категорий `BMI_category`."
   ]
  },
  {
   "cell_type": "code",
   "execution_count": null,
   "id": "66d3714f",
   "metadata": {
    "tags": [
     "otter_answer_cell"
    ]
   },
   "outputs": [],
   "source": [
    "..."
   ]
  },
  {
   "cell_type": "markdown",
   "id": "58a35cb7",
   "metadata": {
    "deletable": false,
    "editable": false
   },
   "source": [
    "Далее постройте `violinplot`, показывающий распределение признака `triglyceride` для разных категорий `BMI_category` с разделением по признаку `smoking`."
   ]
  },
  {
   "cell_type": "code",
   "execution_count": null,
   "id": "5bac2d5f",
   "metadata": {
    "tags": [
     "otter_answer_cell"
    ]
   },
   "outputs": [],
   "source": [
    "..."
   ]
  },
  {
   "cell_type": "markdown",
   "id": "d28b4525",
   "metadata": {
    "deletable": false,
    "editable": false
   },
   "source": [
    "Сделайте выводы о том, как распределены изученные признаки у людей с различным индексом массы тела. Согласуются ли полученные наблюдения с ожиданиями?\n",
    "\n",
    "_Points:_ 2"
   ]
  },
  {
   "cell_type": "code",
   "execution_count": null,
   "id": "2ed82f66",
   "metadata": {
    "deletable": false,
    "editable": false
   },
   "outputs": [],
   "source": [
    "grader.check(\"Task2\")"
   ]
  },
  {
   "cell_type": "markdown",
   "id": "6b7548f5",
   "metadata": {
    "deletable": false,
    "editable": false
   },
   "source": [
    "### Задание 3. Ковариация и корреляция\n",
    "\n",
    "В рамках нашего курса от вас часто будет требоваться реализовать некоторый функционал без использования готовых решений. Лучший способ разобраться в том, как что-то устроено, — создать его с нуля. Начнем прямо сейчас: прежде чем считать ковариацию и корреляцию между признаками, вам нужно написать их на NumPy.\n",
    "\n",
    "<span style=\"color:red\">Предупреждение: использование `np.cov`, `np.corrcoef` и других подобных функций строго запрещено!</span>\n"
   ]
  },
  {
   "cell_type": "markdown",
   "id": "75a3d7da",
   "metadata": {
    "deletable": false,
    "editable": false
   },
   "source": [
    "Реализуйте функцию `cov`, которая рассчитывает ковариацию двух выборок $X=\\{x_1,\\ldots,x_n\\}$ и $Y=\\{y_1,\\ldots,y_n\\}$ по формуле\n",
    "\n",
    "$$\n",
    "\\mathrm{cov}(X,Y)=\\frac{1}{n-1}\\sum_{i=1}^n (x_i-\\bar x)(y_i-\\bar y),\n",
    "$$\n",
    "\n",
    "где $\\bar x$ и $\\bar y$ — выборочные средние $X$ и $Y$ соответственно."
   ]
  },
  {
   "cell_type": "code",
   "execution_count": null,
   "id": "f89986da",
   "metadata": {
    "tags": [
     "otter_answer_cell"
    ]
   },
   "outputs": [],
   "source": [
    "def cov(x1: np.ndarray, x2: np.ndarray) -> np.ndarray:\n",
    "    assert x1.ndim == x2.ndim == 1\n",
    "    assert x1.size == x2.size\n",
    "\n",
    "    ..."
   ]
  },
  {
   "cell_type": "markdown",
   "id": "15a61706",
   "metadata": {
    "deletable": false,
    "editable": false
   },
   "source": [
    "Рассчитайте ковариацию между признаками `height(cm)` и `weight(kg)`."
   ]
  },
  {
   "cell_type": "code",
   "execution_count": null,
   "id": "0af529a7",
   "metadata": {
    "tags": [
     "otter_answer_cell"
    ]
   },
   "outputs": [],
   "source": [
    "cov_height_weight = ...\n",
    "cov_height_weight"
   ]
  },
  {
   "cell_type": "markdown",
   "id": "7113a77d",
   "metadata": {
    "deletable": false,
    "editable": false
   },
   "source": [
    "Теперь посмотрим на ковариацию признаков `height(cm)` и `waist(cm)`."
   ]
  },
  {
   "cell_type": "code",
   "execution_count": null,
   "id": "b63beb93",
   "metadata": {
    "tags": [
     "otter_answer_cell"
    ]
   },
   "outputs": [],
   "source": [
    "cov_height_waist = ...\n",
    "cov_height_waist"
   ]
  },
  {
   "cell_type": "markdown",
   "id": "01ddd0ea",
   "metadata": {
    "deletable": false,
    "editable": false
   },
   "source": [
    "Можем ли мы сравнить две ковариации между собой?"
   ]
  },
  {
   "cell_type": "markdown",
   "id": "af43f905",
   "metadata": {
    "deletable": false,
    "editable": false
   },
   "source": [
    "Напомним, что для расчета корреляции нам необходимо разделить ковариацию на стандартные отклонения величин:\n",
    "\n",
    "$$\n",
    "\\mathrm{corr}(X,Y)=\\frac{1}{n-1}\\sum_{i=1}^n \\frac{(x_i-\\bar x)(y_i-\\bar y)}{s_X s_Y}.\n",
    "$$\n",
    "\n",
    "Постарайтесь ответить на вопрос, зачем это необходимо. Какой масштаб имеет корреляция?\n",
    "\n",
    "_Points:_ 2"
   ]
  },
  {
   "cell_type": "code",
   "execution_count": null,
   "id": "11a38f9c",
   "metadata": {
    "tags": [
     "otter_answer_cell"
    ]
   },
   "outputs": [],
   "source": [
    "def corr(x1: np.ndarray, x2: np.ndarray) -> np.ndarray:\n",
    "    ..."
   ]
  },
  {
   "cell_type": "code",
   "execution_count": null,
   "id": "c53be3bf",
   "metadata": {
    "tags": [
     "otter_answer_cell"
    ]
   },
   "outputs": [],
   "source": [
    "corr_height_weight = ...\n",
    "corr_height_weight"
   ]
  },
  {
   "cell_type": "code",
   "execution_count": null,
   "id": "ff166764",
   "metadata": {
    "tags": [
     "otter_answer_cell"
    ]
   },
   "outputs": [],
   "source": [
    "corr_height_waist = ...\n",
    "corr_height_waist"
   ]
  },
  {
   "cell_type": "code",
   "execution_count": null,
   "id": "82f57326",
   "metadata": {
    "deletable": false,
    "editable": false
   },
   "outputs": [],
   "source": [
    "grader.check(\"Task3\")"
   ]
  },
  {
   "cell_type": "markdown",
   "id": "2030b2ea",
   "metadata": {
    "deletable": false,
    "editable": false
   },
   "source": [
    "### Задание 4. Критерий $ \\chi^2 $\n",
    "\n",
    "Ознакомьтесь с [документацией](https://pandas.pydata.org/docs/reference/api/pandas.crosstab.html) `pd.crosstab` и постройте таблицу сопряженности для признаков `dental caries` и `smoking`. На ее основе проведите χ²-тест независимости, чтобы проверить гипотезу о связи между курением и кариесом, и сделайте вывод по результатам проверки.\n",
    "\n",
    "**Подсказка:** воспользуйтесь функцией `scipy.stats.chi2_contingency`."
   ]
  },
  {
   "cell_type": "code",
   "execution_count": null,
   "id": "2585eea5",
   "metadata": {
    "tags": [
     "otter_answer_cell"
    ]
   },
   "outputs": [],
   "source": [
    "observed = ...\n",
    "observed"
   ]
  },
  {
   "cell_type": "code",
   "execution_count": null,
   "id": "1cabfa27",
   "metadata": {
    "tags": [
     "otter_answer_cell"
    ]
   },
   "outputs": [],
   "source": [
    "chi2_contingency_result = ...\n",
    "chi2_contingency_result"
   ]
  },
  {
   "cell_type": "markdown",
   "id": "72e01335",
   "metadata": {
    "deletable": false,
    "editable": false
   },
   "source": [
    "Сделайте вывод о наличии или отсутствии взаимосвязи между признаками `dental caries` и `smoking` на основе результатов $\\chi^2$-теста.\n",
    "\n",
    "_Points:_ 2"
   ]
  },
  {
   "cell_type": "code",
   "execution_count": null,
   "id": "95e571d0",
   "metadata": {
    "tags": [
     "otter_answer_cell"
    ]
   },
   "outputs": [],
   "source": [
    "# `True` или `False`\n",
    "task_4_reject_h0 = ..."
   ]
  },
  {
   "cell_type": "code",
   "execution_count": null,
   "id": "7004018c",
   "metadata": {
    "deletable": false,
    "editable": false
   },
   "outputs": [],
   "source": [
    "grader.check(\"Task4\")"
   ]
  },
  {
   "cell_type": "markdown",
   "id": "41095eed",
   "metadata": {
    "deletable": false,
    "editable": false
   },
   "source": [
    "### Задание 5. t-критерий Стьюдента\n",
    "\n",
    "В данном задании вам предстоит с помощью самописного t-теста проверить, отличается ли у курящих людей уровень гемоглобина."
   ]
  },
  {
   "cell_type": "markdown",
   "id": "b2737077",
   "metadata": {
    "deletable": false,
    "editable": false
   },
   "source": [
    "Для начала постройте гистограммы распределения уровня гемоглобина в двух группах."
   ]
  },
  {
   "cell_type": "code",
   "execution_count": null,
   "id": "1498a685",
   "metadata": {
    "tags": [
     "otter_answer_cell"
    ]
   },
   "outputs": [],
   "source": [
    "..."
   ]
  },
  {
   "cell_type": "markdown",
   "id": "f9060a86",
   "metadata": {
    "deletable": false,
    "editable": false
   },
   "source": [
    "Мы помним, что согласно центральной предельной теореме (ЦПТ) выборочное среднее\n",
    "\n",
    "$$\n",
    "\\bar{X} \\;\\to\\; \\mathcal{N}\\!\\left(\\mu, \\, \\frac{\\sigma^2}{n}\\right),\n",
    "$$\n",
    "\n",
    "где $\\mu$ — математическое ожидание исходного распределения, а $\\sigma^2$ — его дисперсия.\n",
    "\n",
    "Предположим, у нас есть две выборки $ A = \\{a_1, a_2, \\ldots, a_n\\} $ и $ B = \\{b_1, b_2, \\ldots, b_m\\} $. Мы хотим проверить, имеют ли их генеральные совокупности одинаковое среднее:\n",
    "\n",
    "$$\n",
    "H_0: \\mu_A = \\mu_B, \\quad H_1: \\mu_A \\neq \\mu_B.\n",
    "$$\n",
    "\n",
    "Для этого рассмотрим разность выборочных средних $ \\bar{A} - \\bar{B} $. Она имеет распределение, близкое к нормальному, с параметрами\n",
    "\n",
    "$$\n",
    "\\mu_A - \\mu_B, \\quad \\frac{\\sigma_A^2}{n} + \\frac{\\sigma_B^2}{m}.\n",
    "$$\n",
    "\n",
    "Если $ H_0 $ верна, статистика должна иметь вид:\n",
    "\n",
    "$$\n",
    "t = \\frac{\\bar{A} - \\bar{B}}{\\sqrt{\\tfrac{s_A^2}{n} + \\tfrac{s_B^2}{m}}},\n",
    "$$\n",
    "\n",
    "где $s_A^2$ и $s_B^2$ — выборочные дисперсии."
   ]
  },
  {
   "cell_type": "code",
   "execution_count": null,
   "id": "564cea27",
   "metadata": {
    "tags": [
     "otter_answer_cell"
    ]
   },
   "outputs": [],
   "source": [
    "# Создайте маску, где значение `True` соответствует людям, которые курят.\n",
    "mask = ...\n",
    "\n",
    "# Запишите в переменную `A` значения уровня гемоглобина для некурящих людей.\n",
    "A = ...\n",
    "n = ...\n",
    "\n",
    "# Запишите в переменную `B` значения уровня гемоглобина для курящих людей.\n",
    "B = ...\n",
    "m = ..."
   ]
  },
  {
   "cell_type": "markdown",
   "id": "7ab4948a",
   "metadata": {
    "deletable": false,
    "editable": false
   },
   "source": [
    "Корень из дисперсии выборочного среднего часто называют стандартной ошибкой (Standard Error, SE) среднего, поэтому для удобства далее будем обозначать саму дисперсию как `sem_*_squared`."
   ]
  },
  {
   "cell_type": "code",
   "execution_count": null,
   "id": "931fa06c",
   "metadata": {
    "tags": [
     "otter_answer_cell"
    ]
   },
   "outputs": [],
   "source": [
    "sem_A_squared = ...\n",
    "sem_B_squared = ..."
   ]
  },
  {
   "cell_type": "markdown",
   "id": "fce1a440",
   "metadata": {
    "deletable": false,
    "editable": false
   },
   "source": [
    "Теперь мы готовы рассчитать статистику."
   ]
  },
  {
   "cell_type": "code",
   "execution_count": null,
   "id": "8938b45c",
   "metadata": {
    "tags": [
     "otter_answer_cell"
    ]
   },
   "outputs": [],
   "source": [
    "statistic = ..."
   ]
  },
  {
   "cell_type": "markdown",
   "id": "a5350e12",
   "metadata": {
    "deletable": false,
    "editable": false
   },
   "source": [
    "Поскольку мы используем выборочные дисперсии для оценки дисперсий генеральной совокупности, для расчета вероятности получить такую статистику при верности $ H_0 $ (то есть для оценки $ p $-value) используем t-распределение Стьюдента.\n",
    "\n",
    "Число степеней свободы оценим по формуле Уэлча–Саттертуэйта:\n",
    "\n",
    "$$\n",
    "\\nu = \n",
    "\\frac{\\left(\\tfrac{s_A^2}{n} + \\tfrac{s_B^2}{m}\\right)^2}{\n",
    "\\dfrac{\\left(\\tfrac{s_A^2}{n}\\right)^2}{n-1} + \\dfrac{\\left(\\tfrac{s_B^2}{m}\\right)^2}{m-1}}.\n",
    "$$"
   ]
  },
  {
   "cell_type": "code",
   "execution_count": null,
   "id": "7a4e148f",
   "metadata": {
    "tags": [
     "otter_answer_cell"
    ]
   },
   "outputs": [],
   "source": [
    "df = ..."
   ]
  },
  {
   "cell_type": "markdown",
   "id": "ef3a6213",
   "metadata": {
    "deletable": false,
    "editable": false
   },
   "source": [
    "Наконец, мы можем рассчитать $p$-value. Для этого воспользуйтесь функцией `stats.t.cdf(...)` из библиотеки SciPy и не забудьте, что мы проводим двусторонний тест."
   ]
  },
  {
   "cell_type": "code",
   "execution_count": null,
   "id": "9fc8f556",
   "metadata": {
    "tags": [
     "otter_answer_cell"
    ]
   },
   "outputs": [],
   "source": [
    "pvalue = ..."
   ]
  },
  {
   "cell_type": "code",
   "execution_count": null,
   "id": "515ecbb3",
   "metadata": {
    "deletable": false,
    "editable": false
   },
   "outputs": [],
   "source": [
    "print(f\"{statistic = :.3f}, {pvalue = :.3f}, {df = :.3f}\")"
   ]
  },
  {
   "cell_type": "markdown",
   "id": "1b36fb77",
   "metadata": {
    "deletable": false,
    "editable": false
   },
   "source": [
    "Теперь сравните результат работы своего теста с `scipy.stats.ttest_ind`."
   ]
  },
  {
   "cell_type": "code",
   "execution_count": null,
   "id": "84c0d9cc",
   "metadata": {
    "tags": [
     "otter_answer_cell"
    ]
   },
   "outputs": [],
   "source": [
    "ttest_int_result = ...\n",
    "print(ttest_int_result)"
   ]
  },
  {
   "cell_type": "markdown",
   "id": "2f04a36d",
   "metadata": {
    "deletable": false,
    "editable": false
   },
   "source": [
    "Сделайте выводы о влиянии курения на уровень гемоглобина.\n",
    "\n",
    "\n",
    "_Points:_ 2"
   ]
  },
  {
   "cell_type": "code",
   "execution_count": null,
   "id": "ec55090b",
   "metadata": {
    "tags": [
     "otter_answer_cell"
    ]
   },
   "outputs": [],
   "source": [
    "# `True` или `False`\n",
    "task_5_reject_H0 = ..."
   ]
  },
  {
   "cell_type": "code",
   "execution_count": null,
   "id": "e83ff7cb",
   "metadata": {
    "deletable": false,
    "editable": false
   },
   "outputs": [],
   "source": [
    "grader.check(\"Task5\")"
   ]
  },
  {
   "cell_type": "markdown",
   "id": "8e47eae4",
   "metadata": {
    "deletable": false,
    "editable": false
   },
   "source": [
    "## Submission\n",
    "\n",
    "Make sure you have run all cells in your notebook in order before running the cell below, so that all images/graphs appear in the output. The cell below will generate a zip file for you to submit. **Please save before exporting!**"
   ]
  },
  {
   "cell_type": "code",
   "execution_count": null,
   "id": "32cc3ad7",
   "metadata": {
    "deletable": false,
    "editable": false
   },
   "outputs": [],
   "source": [
    "# Save your notebook first, then run this cell to export your submission.\n",
    "grader.export(pdf=False, run_tests=True)"
   ]
  },
  {
   "cell_type": "markdown",
   "id": "e2f8b37b",
   "metadata": {},
   "source": [
    " "
   ]
  }
 ],
 "metadata": {
  "kernelspec": {
   "display_name": "hse-fbb-ml-course",
   "language": "python",
   "name": "python3"
  },
  "language_info": {
   "codemirror_mode": {
    "name": "ipython",
    "version": 3
   },
   "file_extension": ".py",
   "mimetype": "text/x-python",
   "name": "python",
   "nbconvert_exporter": "python",
   "pygments_lexer": "ipython3",
   "version": "3.12.3"
  },
  "otter": {
   "assignment_name": "hw1_exploratory_data_analysis"
  }
 },
 "nbformat": 4,
 "nbformat_minor": 5
}

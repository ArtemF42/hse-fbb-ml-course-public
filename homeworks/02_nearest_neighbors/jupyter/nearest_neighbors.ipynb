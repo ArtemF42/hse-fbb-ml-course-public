{
 "cells": [
  {
   "cell_type": "code",
   "execution_count": null,
   "id": "d928db98",
   "metadata": {
    "deletable": false,
    "editable": false
   },
   "outputs": [],
   "source": [
    "# Initialize Otter\n",
    "import otter\n",
    "grader = otter.Notebook(\"nearest_neighbors.ipynb\")"
   ]
  },
  {
   "cell_type": "markdown",
   "id": "ffbef5f9",
   "metadata": {},
   "source": [
    "# **Домашнее задание 2.** Метод K-ближайших соседей\n",
    "\n",
    "<p style=\"color:red\">  \n",
    "<b>Предупреждение:</b> в данном задании разрешено использовать только NumPy, Pandas и библиотеки для визуализации! \n",
    "</p>\n",
    "\n",
    "На семинаре мы познакомились с реализацией KNN в библиотеке scikit-learn, обучили модели для задач классификации и регрессии и оценили их качество на синтетических данных.\n",
    "\n",
    "Следуя высказыванию одного удивительного человека:\n",
    "\n",
    "> «What I cannot create, I do not understand.» — Richard Feynman\n",
    "\n",
    "в этом задании мы реализуем алгоритм k-ближайших соседей на чистом NumPy. Приступим!"
   ]
  },
  {
   "cell_type": "code",
   "execution_count": null,
   "id": "118357c4",
   "metadata": {},
   "outputs": [],
   "source": [
    "from typing import Any, Literal, Self\n",
    "\n",
    "import numpy as np\n",
    "import pandas as pd\n",
    "import seaborn as sns\n",
    "import matplotlib.pyplot as plt"
   ]
  },
  {
   "cell_type": "code",
   "execution_count": null,
   "id": "48805117",
   "metadata": {},
   "outputs": [],
   "source": [
    "def convert_pandas_to_numpy(func: callable) -> callable:\n",
    "    def wrapper(*args: tuple[Any], **kwargs: dict[Any]):\n",
    "        args = tuple(arg.values if isinstance(arg, (pd.DataFrame, pd.Series)) else arg for arg in args)\n",
    "        kwargs = {\n",
    "            key: arg.values if isinstance(arg, (pd.DataFrame, pd.Series)) else arg\n",
    "            for key, arg in kwargs.items()\n",
    "        }  # fmt: skip\n",
    "\n",
    "        return func(*args, **kwargs)\n",
    "\n",
    "    return wrapper"
   ]
  },
  {
   "cell_type": "markdown",
   "id": "20f947ab",
   "metadata": {
    "deletable": false,
    "editable": false
   },
   "source": [
    "### **Задание 0.** Предобработка данных\n",
    "\n",
    "Прочитайте данные из файла `Predict_Calorie_Expenditure_Dataset.csv`, при необходимости удалите пропущенные значения, проведите разведочный анализ данных.  \n",
    "\n",
    "_Данное задание не оценивается, но его выполнение необходимо для получения полного балла._\n",
    "\n",
    "_Points:_ 0"
   ]
  },
  {
   "cell_type": "code",
   "execution_count": null,
   "id": "3ace4ac6",
   "metadata": {
    "tags": [
     "otter_answer_cell"
    ]
   },
   "outputs": [],
   "source": [
    "data = ...\n",
    "data = data.sample(5_000, random_state=42)\n",
    "\n",
    "print(f\"{data.shape = }\")\n",
    "data.head()"
   ]
  },
  {
   "cell_type": "code",
   "execution_count": null,
   "id": "4402142c",
   "metadata": {
    "deletable": false,
    "editable": false
   },
   "outputs": [],
   "source": [
    "grader.check(\"Task0\")"
   ]
  },
  {
   "cell_type": "markdown",
   "id": "03610795",
   "metadata": {},
   "source": [
    "Разобьем данные на обучающую, валидационную и тестовые подвыборки"
   ]
  },
  {
   "cell_type": "code",
   "execution_count": null,
   "id": "d67c8929",
   "metadata": {},
   "outputs": [],
   "source": [
    "X, y = data.drop(columns=\"Calories\"), data[\"Calories\"]\n",
    "\n",
    "X_test = X.sample(frac=0.2, random_state=42)\n",
    "test_idx = X_test.index\n",
    "y_test = y.loc[test_idx]\n",
    "\n",
    "train_idx = X.index.difference(test_idx)\n",
    "X_train = X.loc[train_idx]\n",
    "y_train = y.loc[train_idx]\n",
    "\n",
    "print(f\"Размер обучающей выборки:\\t{y_train.size} объектов\")\n",
    "print(f\"Размер тестовой выборки:\\t{y_test.size} объектов\")"
   ]
  },
  {
   "cell_type": "markdown",
   "id": "1d54ef7f",
   "metadata": {
    "deletable": false,
    "editable": false
   },
   "source": [
    "### **Задание 1.** Евклидово расстояние\n",
    "\n",
    "<p style=\"color:red\">  \n",
    "<b>Предупреждение:</b> использование циклов <code>for</code> и <code>while</code> в данном задании запрещено!  \n",
    "</p>  \n",
    "\n",
    "Пусть матрица $ X_A \\in \\mathbb{R}^{n \\times d} $ содержит объекты с известными целевыми переменными, а матрица $ X_B \\in \\mathbb{R}^{m \\times d} $ — объекты, для которых мы хотим сделать предсказания. Для применения модели KNN нам необходимо научиться считать матрицу расстояний $ D \\in \\mathbb{R}^{n \\times m} $.\n",
    "\n",
    "В теории мы могли бы, используя вложенные циклы, пройти по строкам первой и второй матриц, считая расстояния между ними, но ярко-красное предупреждение выше не рекомендует нам этого делать. Значит, будем искать другой способ, а для этого посмотрим внимательнее на определение евклидова расстояния:\n",
    "\n",
    "$$\n",
    "d(\\mathbf{v}, \\mathbf{u}) = \\sqrt{\\sum_{i=1}^{d} (v_i - u_i)^2}, \\quad \\mathbf{v},\\, \\mathbf{u} \\in \\mathbb{R}^d.\n",
    "$$\n",
    "\n",
    "Теперь избавимся от корня:\n",
    "\n",
    "$$\n",
    "\\begin{aligned}\n",
    "d^2(\\mathbf{v}, \\mathbf{u})\n",
    "&= \\sum_{i=1}^{d} (v_i - u_i)^2 \\\\\n",
    "&= \\sum_{i=1}^{d} v_i^2 + \\sum_{i=1}^{d} u_i^2 - 2 \\sum_{i=1}^{d} v_i u_i \\\\\n",
    "&= \\lVert \\mathbf{v} \\rVert^2 + \\lVert \\mathbf{u} \\rVert^2 - 2\\,\\mathbf{v}\\cdot\\mathbf{u}.\n",
    "\\end{aligned}\n",
    "$$\n",
    "\n",
    "Иными словами, для расчета евклидова расстояния в матричной форме нам всего-то и нужно, что посчитать нормы векторов в исходных матрицах и найти матрицу скалярных произведений. С этим уже можно работать!\n",
    "\n",
    "**Подсказка:** рассмотрите произведение $ X_A X_B^\\top $."
   ]
  },
  {
   "cell_type": "markdown",
   "id": "1b319703",
   "metadata": {
    "deletable": false,
    "editable": false
   },
   "source": [
    "Реализуйте функцию `cdist`, которая вычисляет евклидовы расстояния между строками двух матриц.\n",
    "\n",
    "_Points:_ 5"
   ]
  },
  {
   "cell_type": "code",
   "execution_count": null,
   "id": "95434049",
   "metadata": {
    "tags": [
     "otter_answer_cell"
    ]
   },
   "outputs": [],
   "source": [
    "@convert_pandas_to_numpy\n",
    "def cdist(XA: np.ndarray, XB: np.ndarray) -> np.ndarray:\n",
    "    \"\"\"Вычисляет матрицу евклидовых расстояний между векторами из двух входных матриц.\n",
    "\n",
    "    Args:\n",
    "        XA (np.ndarray): Матрица размера (n, d), содержащая n d-мерных векторов.\n",
    "        XB (np.ndarray): Матрица размера (m, d), содержащая m d-мерных векторов.\n",
    "\n",
    "    Returns:\n",
    "        np.ndarray: Матрица расстояний размера (n, m).\n",
    "    \"\"\"\n",
    "    ..."
   ]
  },
  {
   "cell_type": "code",
   "execution_count": null,
   "id": "3ea5f440",
   "metadata": {
    "deletable": false,
    "editable": false
   },
   "outputs": [],
   "source": [
    "grader.check(\"Task1\")"
   ]
  },
  {
   "cell_type": "markdown",
   "id": "84e92155",
   "metadata": {
    "deletable": false,
    "editable": false
   },
   "source": [
    "### **Задание 2.** Базовый класс\n",
    "\n",
    "Наконец, мы готовы приступить к имплементации KNN. Сначала создадим базовый класс, который будет содержать логику обучения и поиска ближайших соседей.\n",
    "\n",
    "_Points:_ 5"
   ]
  },
  {
   "cell_type": "code",
   "execution_count": null,
   "id": "bf8688ab",
   "metadata": {
    "tags": [
     "otter_answer_cell"
    ]
   },
   "outputs": [],
   "source": [
    "class KNeighborsModel:\n",
    "    def __init__(self, n_neighbors: int = 5, weights: Literal[\"uniform\", \"distance\"] = \"uniform\") -> None:\n",
    "        \"\"\"\n",
    "        Args:\n",
    "            n_neighbors (int): Количество ближайших соседей K.\n",
    "            weights (Literal[\"uniform\", \"distance\"]): Метод агрегации целевых переменных соседей.\n",
    "                По умолчанию равен uniform.\n",
    "        \"\"\"\n",
    "        self.n_neighbors = n_neighbors\n",
    "        self.weights = weights\n",
    "\n",
    "    @convert_pandas_to_numpy\n",
    "    def fit(self, X: np.ndarray, y: np.ndarray) -> Self:\n",
    "        \"\"\"Обучает модель.\n",
    "\n",
    "        Args:\n",
    "            X (np.ndarray): Матрица размера (n, d), где n - количество объектов, d - количество признаков.\n",
    "            y (np.ndarray): Вектор целевых переменных размера (n,).\n",
    "\n",
    "        Returns:\n",
    "            Self: Обученная модель.\n",
    "        \"\"\"\n",
    "        assert X.shape[0] == y.shape[0], \"`X` и `y` должны иметь одинаковую длину.\"\n",
    "\n",
    "        ...\n",
    "\n",
    "        return self\n",
    "\n",
    "    @convert_pandas_to_numpy\n",
    "    def predict(self, X: np.ndarray) -> np.ndarray:\n",
    "        neighbors, distances = self._find_neighbors(X)\n",
    "        return self._aggregate(neighbors, distances)\n",
    "\n",
    "    def _find_neighbors(self, X: np.ndarray) -> tuple[np.ndarray, np.ndarray]:\n",
    "        \"\"\"Находит K-ближайших соседей.\n",
    "\n",
    "        Args:\n",
    "            X (np.ndarray): Матрица размера (m, d), где m - количество объектов, d - количество признаков.\n",
    "\n",
    "        Returns:\n",
    "            tuple[np.ndarray, np.ndarray]: Кортеж (neighbors, distances), где\n",
    "                neighbors (m, k) - целевые переменные ближайших соседей,\n",
    "                distances (m, k) - расстояния до ближайших соседей.\n",
    "        \"\"\"\n",
    "        ...\n",
    "\n",
    "    def _aggregate(self, neighbors: np.ndarray, distances: np.ndarray) -> np.ndarray:\n",
    "        if self.weights == \"uniform\":\n",
    "            return self._aggregate_uniform(neighbors)\n",
    "        else:\n",
    "            weights = ...\n",
    "            return self._aggregate_weighted(neighbors, weights)\n",
    "\n",
    "    def _aggregate_uniform(self, neighbors: np.ndarray) -> np.ndarray:\n",
    "        raise NotImplementedError\n",
    "\n",
    "    def _aggregate_weighted(self, neighbors: np.ndarray, weights: np.ndarray) -> np.ndarray:\n",
    "        raise NotImplementedError"
   ]
  },
  {
   "cell_type": "code",
   "execution_count": null,
   "id": "7d54651c",
   "metadata": {
    "deletable": false,
    "editable": false
   },
   "outputs": [],
   "source": [
    "grader.check(\"Task2\")"
   ]
  },
  {
   "cell_type": "markdown",
   "id": "d2a9c193",
   "metadata": {
    "deletable": false,
    "editable": false
   },
   "source": [
    "### **Задание 3**. Метод K-ближайших соседей для задачи регрессии\n",
    "\n",
    "_Points:_ 2"
   ]
  },
  {
   "cell_type": "code",
   "execution_count": null,
   "id": "7519b3f9",
   "metadata": {
    "tags": [
     "otter_answer_cell"
    ]
   },
   "outputs": [],
   "source": [
    "class KNeighborsRegressor(KNeighborsModel):\n",
    "    def _aggregate_uniform(self, neighbors: np.ndarray) -> np.ndarray:\n",
    "        ...\n",
    "\n",
    "    def _aggregate_weighted(self, neighbors: np.ndarray, weights: np.ndarray) -> np.ndarray:\n",
    "        ..."
   ]
  },
  {
   "cell_type": "code",
   "execution_count": null,
   "id": "47de1e7e",
   "metadata": {
    "deletable": false,
    "editable": false
   },
   "outputs": [],
   "source": [
    "grader.check(\"Task3\")"
   ]
  },
  {
   "cell_type": "markdown",
   "id": "dc40dfac",
   "metadata": {
    "deletable": false,
    "editable": false
   },
   "source": [
    "### **Задание 4.** Метрики качества регрессии. Root Mean Squared Error (RMSE)\n",
    "\n",
    "Для оценки качества модели будем использовать корень из среднеквадратичной ошибки (root mean squared error, RMSE):\n",
    "\n",
    "$$\n",
    "\\text{RMSE}(\\mathbf{y}, \\hat{\\mathbf{y}}) = \\sqrt{\\frac{1}{m} \\sum_{i=1}^{m} (y_i - \\hat{y}_i) ^ 2}.\n",
    "$$\n",
    "\n",
    "_Points:_ 2"
   ]
  },
  {
   "cell_type": "code",
   "execution_count": null,
   "id": "ef9b5daa",
   "metadata": {
    "tags": [
     "otter_answer_cell"
    ]
   },
   "outputs": [],
   "source": [
    "def root_mean_squared_error(y_true: np.ndarray, y_pred: np.ndarray) -> np.ndarray:\n",
    "    \"\"\"Рассчитывает RMSE.\n",
    "\n",
    "    Args:\n",
    "        y_true (np.ndarray): Истинные значения целевой переменной.\n",
    "        y_pred (np.ndarray): Предсказанные значения целевой переменной.\n",
    "\n",
    "    Returns:\n",
    "        np.ndarray: Значение метрики RMSE.\n",
    "    \"\"\"\n",
    "    assert y_true.shape == y_pred.shape, \"Размеры `y_true` и `y_pred` должны совпадать.\"\n",
    "    ..."
   ]
  },
  {
   "cell_type": "code",
   "execution_count": null,
   "id": "8a49a0e6",
   "metadata": {
    "deletable": false,
    "editable": false
   },
   "outputs": [],
   "source": [
    "grader.check(\"Task4\")"
   ]
  },
  {
   "cell_type": "markdown",
   "id": "8007bbe1",
   "metadata": {
    "deletable": false,
    "editable": false
   },
   "source": [
    "### **Задание 5.** Обучение модели\n",
    "\n",
    "Теперь обучите модель с параметром `n_neighbors=10` на числовых признаках и оцените ее качество\n",
    "\n",
    "_Points:_ 2"
   ]
  },
  {
   "cell_type": "code",
   "execution_count": null,
   "id": "a08e0638",
   "metadata": {
    "tags": [
     "otter_answer_cell"
    ]
   },
   "outputs": [],
   "source": [
    "NUMERIC_FEATURES = ..."
   ]
  },
  {
   "cell_type": "code",
   "execution_count": null,
   "id": "f08b839d",
   "metadata": {
    "tags": [
     "otter_answer_cell"
    ]
   },
   "outputs": [],
   "source": [
    "reg = ...\n",
    "y_pred = ...\n",
    "\n",
    "print(f\"RMSE:\\t{root_mean_squared_error(y_test, y_pred):.3f}\")"
   ]
  },
  {
   "cell_type": "markdown",
   "id": "e6bd39c4",
   "metadata": {
    "deletable": false,
    "editable": false
   },
   "source": [
    "### **Задание 6.** Масштабирование признаков\n",
    "\n",
    "Вспомните, почему так важно масштабировать признаки при использовании KNN. Затем реализуйте класс `StandardScaler` и примените его к нашим данным.\n",
    "\n",
    "_Points:_ 2"
   ]
  },
  {
   "cell_type": "code",
   "execution_count": null,
   "id": "62c68c66",
   "metadata": {
    "tags": [
     "otter_answer_cell"
    ]
   },
   "outputs": [],
   "source": [
    "class StandardScaler:\n",
    "    @convert_pandas_to_numpy\n",
    "    def fit(self, X: np.ndarray) -> Self:\n",
    "        ...\n",
    "\n",
    "        return self\n",
    "\n",
    "    @convert_pandas_to_numpy\n",
    "    def transform(self, X: np.ndarray) -> np.ndarray:\n",
    "        ...\n",
    "\n",
    "    @convert_pandas_to_numpy\n",
    "    def fit_transform(self, X: np.ndarray) -> np.ndarray:\n",
    "        return self.fit(X).transform(X)"
   ]
  },
  {
   "cell_type": "code",
   "execution_count": null,
   "id": "3d455b3c",
   "metadata": {
    "tags": [
     "otter_answer_cell"
    ]
   },
   "outputs": [],
   "source": [
    "..."
   ]
  },
  {
   "cell_type": "code",
   "execution_count": null,
   "id": "0174ce61",
   "metadata": {
    "tags": [
     "otter_answer_cell"
    ]
   },
   "outputs": [],
   "source": [
    "reg = ...\n",
    "y_pred = ...\n",
    "\n",
    "print(f\"RMSE:\\t{root_mean_squared_error(y_test, y_pred):.3f}\")"
   ]
  },
  {
   "cell_type": "code",
   "execution_count": null,
   "id": "cb655b0a",
   "metadata": {
    "deletable": false,
    "editable": false
   },
   "outputs": [],
   "source": [
    "grader.check(\"Task6\")"
   ]
  },
  {
   "cell_type": "raw",
   "id": "ea864950",
   "metadata": {},
   "source": []
  },
  {
   "cell_type": "markdown",
   "id": "90f0271c",
   "metadata": {
    "deletable": false,
    "editable": false
   },
   "source": [
    "## Submission\n",
    "\n",
    "Make sure you have run all cells in your notebook in order before running the cell below, so that all images/graphs appear in the output. The cell below will generate a zip file for you to submit. **Please save before exporting!**"
   ]
  },
  {
   "cell_type": "code",
   "execution_count": null,
   "id": "4929216a",
   "metadata": {
    "deletable": false,
    "editable": false
   },
   "outputs": [],
   "source": [
    "# Save your notebook first, then run this cell to export your submission.\n",
    "grader.export(pdf=False, run_tests=True)"
   ]
  },
  {
   "cell_type": "markdown",
   "id": "bb435a6a",
   "metadata": {},
   "source": [
    " "
   ]
  }
 ],
 "metadata": {
  "kernelspec": {
   "display_name": "ml-course",
   "language": "python",
   "name": "python3"
  },
  "language_info": {
   "codemirror_mode": {
    "name": "ipython",
    "version": 3
   },
   "file_extension": ".py",
   "mimetype": "text/x-python",
   "name": "python",
   "nbconvert_exporter": "python",
   "pygments_lexer": "ipython3",
   "version": "3.12.3"
  },
  "otter": {
   "OK_FORMAT": true,
   "assignment_name": "hw2_nearest_neighbors",
   "tests": {
    "Task0": {
     "name": "Task0",
     "points": 0,
     "suites": [
      {
       "cases": [
        {
         "code": ">>> assert data.shape == (5000, 8)\n",
         "hidden": false,
         "locked": false
        }
       ],
       "scored": true,
       "setup": "",
       "teardown": "",
       "type": "doctest"
      }
     ]
    },
    "Task1": {
     "name": "Task1",
     "points": 5,
     "suites": [
      {
       "cases": [
        {
         "code": ">>> XA = np.array([[3.6, 4.7, 4.3], [4.9, 3.5, 3.6]])\n>>> XB = np.array([[0.8, 2.7, 1.2], [2.6, 1.2, 4.5], [0.8, 4.9, 1.8]])\n>>> D = cdist(XA, XB)\n>>> assert D.shape == (2, 3)\n>>> assert np.allclose(cdist(XA, XB), np.array([[4.631, 3.646, 3.759], [4.818, 3.375, 4.691]]), atol=0.001)\n",
         "hidden": false,
         "locked": false
        }
       ],
       "scored": true,
       "setup": "",
       "teardown": "",
       "type": "doctest"
      }
     ]
    },
    "Task2": {
     "name": "Task2",
     "points": 5,
     "suites": [
      {
       "cases": [
        {
         "code": ">>> reg = KNeighborsModel(n_neighbors=1).fit(np.array([[0.3], [0.4], [0.0]]), np.array([1, 1, 0]))\n>>> neighbors, distances = reg._find_neighbors(np.array([[0.1]]))\n>>> assert neighbors.item() == 0\n>>> assert np.isclose(distances.item(), 0.1)\n",
         "hidden": false,
         "locked": false
        }
       ],
       "scored": true,
       "setup": "",
       "teardown": "",
       "type": "doctest"
      }
     ]
    },
    "Task3": {
     "name": "Task3",
     "points": 2,
     "suites": [
      {
       "cases": [
        {
         "code": ">>> neighbors = np.array([[0.4, 0.3, 0.2, 0.1, 0.1]])\n>>> weights = 1 / np.array([[1.0, 1.0, 1.0, 3.0, 4.0]])\n>>> assert np.isclose(KNeighborsRegressor()._aggregate_uniform(neighbors), 0.22)\n>>> assert np.isclose(KNeighborsRegressor(weights='distance')._aggregate_weighted(neighbors, weights), 0.267, atol=0.001)\n",
         "hidden": false,
         "locked": false
        }
       ],
       "scored": true,
       "setup": "",
       "teardown": "",
       "type": "doctest"
      }
     ]
    },
    "Task4": {
     "name": "Task4",
     "points": 2,
     "suites": [
      {
       "cases": [
        {
         "code": ">>> y_true = np.array([0.7, -1.5, 1.4, -1.1])\n>>> y_pred = np.array([1.0, 1.7, -1.6, 0.2])\n>>> assert np.isclose(root_mean_squared_error(y_true, y_pred), 2.292, atol=0.001)\n>>> assert np.isclose(root_mean_squared_error(y_true, y_true), 0.0)\n",
         "hidden": false,
         "locked": false
        }
       ],
       "scored": true,
       "setup": "",
       "teardown": "",
       "type": "doctest"
      }
     ]
    },
    "Task6": {
     "name": "Task6",
     "points": 2,
     "suites": [
      {
       "cases": [
        {
         "code": ">>> assert np.allclose(StandardScaler().fit_transform(np.array([[2.7], [2.9], [2.2], [2.0]])), np.array([[0.687], [1.236], [-0.687], [-1.236]]), atol=0.001)\n",
         "hidden": false,
         "locked": false
        }
       ],
       "scored": true,
       "setup": "",
       "teardown": "",
       "type": "doctest"
      }
     ]
    }
   }
  }
 },
 "nbformat": 4,
 "nbformat_minor": 5
}

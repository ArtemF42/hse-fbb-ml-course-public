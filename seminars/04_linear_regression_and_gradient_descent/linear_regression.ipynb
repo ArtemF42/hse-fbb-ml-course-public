{
 "cells": [
  {
   "cell_type": "markdown",
   "id": "8bcd2f82",
   "metadata": {},
   "source": [
    "# Семинар 4. Линейная регрессия"
   ]
  },
  {
   "cell_type": "code",
   "execution_count": null,
   "id": "604954c8",
   "metadata": {},
   "outputs": [],
   "source": [
    "import numpy as np\n",
    "import pandas as pd\n",
    "import matplotlib.pyplot as plt\n",
    "import seaborn as sns\n",
    "\n",
    "sns.set_theme(style=\"whitegrid\", palette=\"Spectral\")\n",
    "\n",
    "from sklearn.model_selection import GridSearchCV, train_test_split\n",
    "from sklearn.linear_model import Lasso, LinearRegression, Ridge\n",
    "from sklearn.metrics import root_mean_squared_error\n",
    "from sklearn.preprocessing import OneHotEncoder, PolynomialFeatures, StandardScaler\n",
    "from sklearn.compose import ColumnTransformer\n",
    "from sklearn.pipeline import Pipeline"
   ]
  },
  {
   "cell_type": "markdown",
   "id": "2f35bb16",
   "metadata": {},
   "source": [
    "В прошлый раз мы выяснили, что в случае обучения с учителем будем иметь дело с матрицей объекты — признаки $ X $ и вектором целевых переменных $ y $:\n",
    "\n",
    "$$\n",
    "X = \n",
    "\\begin{bmatrix}\n",
    "x_{11} & x_{12} & \\dots & x_{1d} \\\\\n",
    "x_{21} & x_{22} & \\dots & x_{2d} \\\\\n",
    "\\vdots & \\vdots & \\ddots & \\vdots \\\\\n",
    "x_{n1} & x_{n2} & \\dots & x_{nd} \\\\\n",
    "\\end{bmatrix},\n",
    "\\quad\n",
    "y = \n",
    "\\begin{bmatrix}\n",
    "y_1 \\\\\n",
    "y_2 \\\\\n",
    "\\vdots \\\\\n",
    "y_n\n",
    "\\end{bmatrix}.\n",
    "$$\n",
    "\n",
    "При этом для предсказания метки $ y \\in \\mathbb{R} $ неизвестного объекта мы использовали среднее значение меток его ближайших соседей. Сегодня мы познакомимся с новым классом моделей — линейными моделями. Для предсказания они используют линейную комбинацию признаков:\n",
    "\n",
    "$$ \\bar{y} = w_0 + w_1 x_1 + w_2 x_2 + \\dots + w_d x_d = w_0 + \\langle \\mathbf{w}, \\mathbf{x} \\rangle, $$\n",
    "\n",
    "где $ \\mathbf{w} = (w_1, w_2, \\dots, w_d) $ — вектор коэффициентов (весов) модели (без $ w_0 $), а $ \\mathbf{x} = (x_1, x_2, \\dots, x_d) $ — вектор признаков одного объекта.\n",
    "\n",
    "Давайте для простоты представим, что $ w_0 $ соответствует константному признаку со значением 1 (т.е. добавим в $ X $ столбец из единиц). Тогда мы сможем внести $ w_0 $ в скалярное произведение:\n",
    "\n",
    "$$ \\bar{y} = \\langle \\mathbf{w}, \\mathbf{x} \\rangle. $$\n",
    "\n",
    "В матричной форме для всего датасета (всех объектов) предсказания модели можно записать как:\n",
    "\n",
    "$$ \\bar{\\mathbf{y}} = X \\mathbf{w}. $$"
   ]
  },
  {
   "cell_type": "markdown",
   "id": "4a1d41a5",
   "metadata": {},
   "source": [
    "Прочитаем данные из файла `train.csv`"
   ]
  },
  {
   "cell_type": "code",
   "execution_count": null,
   "id": "2f8b286a",
   "metadata": {},
   "outputs": [],
   "source": [
    "data = pd.read_csv(\"train.csv\").sample(2_000, random_state=42)\n",
    "print(f\"{data.shape = }\")\n",
    "data.head()"
   ]
  },
  {
   "cell_type": "markdown",
   "id": "5a348ecd",
   "metadata": {},
   "source": [
    "Проверим, нет ли в данных пропущенных значений"
   ]
  },
  {
   "cell_type": "code",
   "execution_count": null,
   "id": "6c5d09ce",
   "metadata": {},
   "outputs": [],
   "source": [
    "data.isna().sum()"
   ]
  },
  {
   "cell_type": "markdown",
   "id": "c26bae7c",
   "metadata": {},
   "source": [
    "Все значения в столбце `\"id\"` уникальны, давайте от него избавимся "
   ]
  },
  {
   "cell_type": "code",
   "execution_count": null,
   "id": "8851ebda",
   "metadata": {},
   "outputs": [],
   "source": [
    "data[\"id\"].is_unique"
   ]
  },
  {
   "cell_type": "code",
   "execution_count": null,
   "id": "f67b2edf",
   "metadata": {},
   "outputs": [],
   "source": [
    "data = data.drop(columns=[\"id\"])"
   ]
  },
  {
   "cell_type": "markdown",
   "id": "ecf30383",
   "metadata": {},
   "source": [
    "Посмотрим на совместное распределение признаков и целевой переменной"
   ]
  },
  {
   "cell_type": "code",
   "execution_count": null,
   "id": "8381eb9e",
   "metadata": {},
   "outputs": [],
   "source": [
    "sns.pairplot(data=data)"
   ]
  },
  {
   "cell_type": "code",
   "execution_count": null,
   "id": "51ed7c3e",
   "metadata": {},
   "outputs": [],
   "source": [
    "corr = data.corr(numeric_only=True)\n",
    "corr"
   ]
  },
  {
   "cell_type": "code",
   "execution_count": null,
   "id": "15fe89ce",
   "metadata": {},
   "outputs": [],
   "source": [
    "sns.heatmap(corr)"
   ]
  },
  {
   "cell_type": "markdown",
   "id": "e0748485",
   "metadata": {},
   "source": [
    "А также построим гистограмму распределения целевой переменной"
   ]
  },
  {
   "cell_type": "code",
   "execution_count": null,
   "id": "ca6e7d65",
   "metadata": {},
   "outputs": [],
   "source": [
    "sns.histplot(data=data, x=\"price\", bins=20)"
   ]
  },
  {
   "cell_type": "markdown",
   "id": "3551608a",
   "metadata": {},
   "source": [
    "Разделим данные на обучающую и тестовую подвыборки"
   ]
  },
  {
   "cell_type": "code",
   "execution_count": null,
   "id": "983053d9",
   "metadata": {},
   "outputs": [],
   "source": [
    "X, y = data.drop(columns=[\"price\"]), data[\"price\"]\n",
    "\n",
    "X_train, X_test, y_train, y_test = train_test_split(X, y, test_size=0.2, random_state=42)\n",
    "print(f\"Train size: {y_train.size}\")\n",
    "print(f\"Test size: {y_test.size}\")"
   ]
  },
  {
   "cell_type": "markdown",
   "id": "59e73370",
   "metadata": {},
   "source": [
    "Наша модель умеет работать только с числовыми признаками"
   ]
  },
  {
   "cell_type": "code",
   "execution_count": null,
   "id": "1fb2e14d",
   "metadata": {},
   "outputs": [],
   "source": [
    "NUMERIC_FEATURES = X.select_dtypes(include=\"number\").columns\n",
    "NUMERIC_FEATURES"
   ]
  },
  {
   "cell_type": "markdown",
   "id": "6b46f824",
   "metadata": {},
   "source": [
    "Обучим модель и оценим ее качество с помощью RMSE (Root Mean Squared Error)\n",
    "\n",
    "$$\n",
    "\\text{RMSE} = \\sqrt{\\frac{1}{n} \\sum (y_i - \\bar{y}_i)^2}\n",
    "$$"
   ]
  },
  {
   "cell_type": "code",
   "execution_count": null,
   "id": "dd65b676",
   "metadata": {},
   "outputs": [],
   "source": [
    "model = LinearRegression()\n",
    "model.fit(X_train[NUMERIC_FEATURES], y_train)\n",
    "\n",
    "y_pred = model.predict(X_test[NUMERIC_FEATURES])\n",
    "print(f\"Test RMSE: {root_mean_squared_error(y_test, y_pred):.3f}\")"
   ]
  },
  {
   "cell_type": "markdown",
   "id": "e80b31cd",
   "metadata": {},
   "source": [
    "Посмотрим на распределение весов"
   ]
  },
  {
   "cell_type": "code",
   "execution_count": null,
   "id": "44776fc0",
   "metadata": {},
   "outputs": [],
   "source": [
    "sns.barplot(x=model.coef_, y=model.feature_names_in_)"
   ]
  },
  {
   "cell_type": "markdown",
   "id": "f127de04",
   "metadata": {},
   "source": [
    "Можно ли утверждать, что признаки с большим значением весов важнее для нашей модели? Почему?"
   ]
  },
  {
   "cell_type": "code",
   "execution_count": null,
   "id": "f73979cf",
   "metadata": {},
   "outputs": [],
   "source": [
    "scaler = StandardScaler()\n",
    "\n",
    "X_train[NUMERIC_FEATURES] = scaler.fit_transform(X_train[NUMERIC_FEATURES])\n",
    "X_test[NUMERIC_FEATURES] = scaler.transform(X_test[NUMERIC_FEATURES])"
   ]
  },
  {
   "cell_type": "code",
   "execution_count": null,
   "id": "2d182522",
   "metadata": {},
   "outputs": [],
   "source": [
    "model = LinearRegression()\n",
    "model.fit(X_train[NUMERIC_FEATURES], y_train)\n",
    "\n",
    "y_pred = model.predict(X_test[NUMERIC_FEATURES])\n",
    "print(f\"Test RMSE: {root_mean_squared_error(y_test, y_pred):.3f}\")"
   ]
  },
  {
   "cell_type": "code",
   "execution_count": null,
   "id": "ab99cff5",
   "metadata": {},
   "outputs": [],
   "source": [
    "sns.barplot(x=model.coef_, y=model.feature_names_in_)"
   ]
  },
  {
   "cell_type": "markdown",
   "id": "e200c44c",
   "metadata": {},
   "source": [
    "Теперь займемся категориальными признаками"
   ]
  },
  {
   "cell_type": "code",
   "execution_count": null,
   "id": "b06f8304",
   "metadata": {},
   "outputs": [],
   "source": [
    "CATEGORICAL_FEATURES = X.columns.difference(NUMERIC_FEATURES)\n",
    "CATEGORICAL_FEATURES"
   ]
  },
  {
   "cell_type": "code",
   "execution_count": null,
   "id": "66e7d5d5",
   "metadata": {},
   "outputs": [],
   "source": [
    "one_hot_encoder = OneHotEncoder().fit(X_train[CATEGORICAL_FEATURES])\n",
    "one_hot_encoder.get_feature_names_out()"
   ]
  },
  {
   "cell_type": "code",
   "execution_count": null,
   "id": "17e16c3c",
   "metadata": {},
   "outputs": [],
   "source": [
    "one_hot_encoder.transform(X_train[CATEGORICAL_FEATURES]).toarray()"
   ]
  },
  {
   "cell_type": "code",
   "execution_count": null,
   "id": "91956f83",
   "metadata": {},
   "outputs": [],
   "source": [
    "X_train[one_hot_encoder.get_feature_names_out()] = one_hot_encoder.transform(X_train[CATEGORICAL_FEATURES]).toarray()\n",
    "X_train = X_train.drop(columns=CATEGORICAL_FEATURES)\n",
    "\n",
    "X_test[one_hot_encoder.get_feature_names_out()] = one_hot_encoder.transform(X_test[CATEGORICAL_FEATURES]).toarray()\n",
    "X_test = X_test.drop(columns=CATEGORICAL_FEATURES)"
   ]
  },
  {
   "cell_type": "code",
   "execution_count": null,
   "id": "7ce008a3",
   "metadata": {},
   "outputs": [],
   "source": [
    "model = LinearRegression()\n",
    "model.fit(X_train, y_train)\n",
    "\n",
    "y_pred = model.predict(X_test)\n",
    "print(f\"Test RMSE: {root_mean_squared_error(y_test, y_pred):.3f}\")"
   ]
  },
  {
   "cell_type": "markdown",
   "id": "2425d044",
   "metadata": {},
   "source": [
    "Существует и более удобный способ предобработать данные — использовать `ColumnTransformer`."
   ]
  },
  {
   "cell_type": "code",
   "execution_count": null,
   "id": "1fcc4b35",
   "metadata": {},
   "outputs": [],
   "source": [
    "X, y = data.drop(columns=[\"price\"]), data[\"price\"]\n",
    "\n",
    "X_train, X_test, y_train, y_test = train_test_split(X, y, test_size=0.2, random_state=42)"
   ]
  },
  {
   "cell_type": "code",
   "execution_count": null,
   "id": "6388b422",
   "metadata": {},
   "outputs": [],
   "source": [
    "column_transformer = ColumnTransformer(\n",
    "    transformers=[\n",
    "        (\"numeric\", StandardScaler(), NUMERIC_FEATURES),\n",
    "        (\"categorical\", OneHotEncoder(), CATEGORICAL_FEATURES),\n",
    "    ]\n",
    ")\n",
    "\n",
    "X_train_transformed = column_transformer.fit_transform(X_train)\n",
    "X_test_transformed = column_transformer.transform(X_test)"
   ]
  },
  {
   "cell_type": "markdown",
   "id": "ac69aed6",
   "metadata": {},
   "source": [
    "Кроме того, мы можем обернуть все этапы построения модели в один `Pipeline`."
   ]
  },
  {
   "cell_type": "code",
   "execution_count": null,
   "id": "b458a36b",
   "metadata": {},
   "outputs": [],
   "source": [
    "pipeline = Pipeline(\n",
    "    steps=[\n",
    "        (\"transformer\", column_transformer),\n",
    "        (\"model\", LinearRegression())\n",
    "    ]\n",
    ")\n",
    "\n",
    "pipeline.fit(X_train, y_train)\n",
    "\n",
    "y_pred = pipeline.predict(X_test)\n",
    "print(f\"Test RMSE: {root_mean_squared_error(y_test, y_pred):.3f}\")"
   ]
  },
  {
   "cell_type": "markdown",
   "id": "c3e36837",
   "metadata": {},
   "source": [
    "### Регуляризация"
   ]
  },
  {
   "cell_type": "code",
   "execution_count": null,
   "id": "872fa60b",
   "metadata": {},
   "outputs": [],
   "source": [
    "# TODO: reimplement\n",
    "np.random.seed(451)\n",
    "\n",
    "x = np.linspace(0, 1, 100)\n",
    "y = np.cos(1.5 * np.pi * x)\n",
    "\n",
    "x_objects = np.random.uniform(0, 1, size=30)\n",
    "y_objects = np.cos(1.5 * np.pi * x_objects) + np.random.normal(scale=0.1, size=x_objects.shape)\n",
    "\n",
    "fig, axs = plt.subplots(figsize=(16, 4), ncols=3)\n",
    "\n",
    "for i, degree in enumerate([1, 4, 20]):\n",
    "    X_objects = PolynomialFeatures(degree, include_bias=False).fit_transform(x_objects[:, None])\n",
    "    X = PolynomialFeatures(degree, include_bias=False).fit_transform(x[:, None])\n",
    "    regr = LinearRegression().fit(X_objects, y_objects)\n",
    "    y_pred = regr.predict(X)\n",
    "    axs[i].plot(x, y, label=\"Real function\")\n",
    "    axs[i].scatter(x_objects, y_objects, label=\"Data\")\n",
    "    axs[i].plot(x, y_pred, label=\"Prediction\")\n",
    "\n",
    "    if i == 0:\n",
    "        axs[i].legend()\n",
    "    \n",
    "    axs[i].set_title(\"Degree = %d\" % degree)\n",
    "    axs[i].set_xlabel(\"$x$\")\n",
    "    axs[i].set_ylabel(\"$f(x)$\")\n",
    "    axs[i].set_ylim(-2, 2)"
   ]
  },
  {
   "cell_type": "markdown",
   "id": "50570e4d",
   "metadata": {},
   "source": [
    "L1-регуляризация (Lasso)\n",
    "\n",
    "$$ L = ... + \\lambda \\sum_{j=1}^{d} |w_j| $$\n",
    "\n",
    "L2-регуляризация (Ridge)\n",
    "\n",
    "$$ L = ... + \\lambda \\sum_{j=1}^{d} w_j^2 $$\n",
    "\n",
    "Elastic Net\n",
    "\n",
    "$$ L = ... + \\lambda_1 \\sum_{j=1}^{d} |w_j| + \\lambda_2 \\sum_{j=1}^{d} w_j^2 $$"
   ]
  },
  {
   "cell_type": "code",
   "execution_count": null,
   "id": "c8fda5ae",
   "metadata": {},
   "outputs": [],
   "source": [
    "ridge = GridSearchCV(\n",
    "    Ridge(max_iter=10_000),\n",
    "    {\"alpha\": np.arange(0.1, 5.0, 0.25)},\n",
    "    scoring=\"neg_mean_squared_error\",\n",
    "    cv=10,\n",
    "    n_jobs=-1,\n",
    ")\n",
    "ridge.fit(X_train_transformed, y_train)\n",
    "\n",
    "y_pred = ridge.predict(X_test_transformed)\n",
    "print(f\"Test RMSE: {root_mean_squared_error(y_test, y_pred):.2f}\")"
   ]
  },
  {
   "cell_type": "code",
   "execution_count": null,
   "id": "38c55561",
   "metadata": {},
   "outputs": [],
   "source": [
    "ridge.best_estimator_.coef_"
   ]
  },
  {
   "cell_type": "code",
   "execution_count": null,
   "id": "7ffb7040",
   "metadata": {},
   "outputs": [],
   "source": [
    "lasso = GridSearchCV(\n",
    "    Lasso(max_iter=10_000),\n",
    "    {\"alpha\": np.arange(0.1, 5.0, 0.25)},\n",
    "    scoring=\"neg_mean_squared_error\",\n",
    "    cv=10,\n",
    "    n_jobs=-1,\n",
    ")\n",
    "lasso.fit(X_train_transformed, y_train)\n",
    "\n",
    "y_pred = lasso.predict(X_test_transformed)\n",
    "print(f\"Test RMSE: {root_mean_squared_error(y_test, y_pred):.2f}\")"
   ]
  },
  {
   "cell_type": "code",
   "execution_count": null,
   "id": "fb7fc65e",
   "metadata": {},
   "outputs": [],
   "source": [
    "lasso.best_estimator_.coef_"
   ]
  },
  {
   "cell_type": "code",
   "execution_count": null,
   "id": "9e322a55",
   "metadata": {},
   "outputs": [],
   "source": []
  }
 ],
 "metadata": {
  "kernelspec": {
   "display_name": "ml-course",
   "language": "python",
   "name": "python3"
  },
  "language_info": {
   "codemirror_mode": {
    "name": "ipython",
    "version": 3
   },
   "file_extension": ".py",
   "mimetype": "text/x-python",
   "name": "python",
   "nbconvert_exporter": "python",
   "pygments_lexer": "ipython3",
   "version": "3.12.3"
  }
 },
 "nbformat": 4,
 "nbformat_minor": 5
}

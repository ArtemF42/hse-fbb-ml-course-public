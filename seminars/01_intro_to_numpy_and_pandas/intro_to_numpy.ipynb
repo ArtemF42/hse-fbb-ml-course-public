{
 "cells": [
  {
   "cell_type": "code",
   "execution_count": null,
   "id": "bb269d95",
   "metadata": {
    "deletable": false,
    "editable": false
   },
   "outputs": [],
   "source": [
    "# Initialize Otter\n",
    "import otter\n",
    "grader = otter.Notebook(\"intro_to_numpy.ipynb\")"
   ]
  },
  {
   "cell_type": "markdown",
   "id": "56ff266e",
   "metadata": {},
   "source": [
    "# Введение в NumPy\n",
    "\n",
    "Данный семинар является адаптацией материала [NumPy: the absolute basics for beginners](https://numpy.org/doc/stable/user/absolute_beginners.html).\n",
    "\n",
    "\n",
    "NumPy (**Num**erical **Py**thon) — это библиотека с открытым исходным кодом для Python, широко используемая в науке. Она содержит инструменты для удобной и эффективной работы с числовыми данными."
   ]
  },
  {
   "cell_type": "markdown",
   "id": "53024111",
   "metadata": {},
   "source": [
    "## Установка NumPy\n",
    "\n",
    "Чтобы [установить NumPy](https://numpy.org/install/), воспользуйтесь командой:\n",
    "\n",
    "```bash\n",
    "pip install numpy\n",
    "```\n",
    "\n",
    "или, если используете [uv](https://docs.astral.sh/uv/):\n",
    "\n",
    "```bash\n",
    "uv pip install numpy\n",
    "```"
   ]
  },
  {
   "cell_type": "code",
   "execution_count": null,
   "id": "1db82770",
   "metadata": {},
   "outputs": [],
   "source": [
    "# !pip install numpy\n",
    "# !uv pip install numpy"
   ]
  },
  {
   "cell_type": "markdown",
   "id": "cf3d150f",
   "metadata": {},
   "source": [
    "Теперь можно импортировать NumPy:"
   ]
  },
  {
   "cell_type": "code",
   "execution_count": null,
   "id": "a551b726",
   "metadata": {},
   "outputs": [],
   "source": [
    "import numpy as np\n",
    "\n",
    "np.__version__"
   ]
  },
  {
   "cell_type": "markdown",
   "id": "ac9f3ce3",
   "metadata": {},
   "source": [
    "## Первый взгляд на массивы `ndarray`\n",
    "\n",
    "Основным объектом в NumPy являются массивы `ndarray` (_N-dimensional array_). Создать массив можно из последовательности, например, обычного списка:"
   ]
  },
  {
   "cell_type": "code",
   "execution_count": null,
   "id": "6036e56d",
   "metadata": {},
   "outputs": [],
   "source": [
    "a = np.array([1, 2, 3, 4, 5, 6])\n",
    "a"
   ]
  },
  {
   "cell_type": "markdown",
   "id": "b558f511",
   "metadata": {},
   "source": [
    "Подобно спискам, массивы в NumPy изменяемы:"
   ]
  },
  {
   "cell_type": "code",
   "execution_count": null,
   "id": "4b19c65c",
   "metadata": {},
   "outputs": [],
   "source": [
    "a[0] = 10\n",
    "a"
   ]
  },
  {
   "cell_type": "markdown",
   "id": "78a868b6",
   "metadata": {},
   "source": [
    "Элементы массива могут быть получены по индексу (индексация начинается с 0):"
   ]
  },
  {
   "cell_type": "code",
   "execution_count": null,
   "id": "5fd35068",
   "metadata": {},
   "outputs": [],
   "source": [
    "a[0]"
   ]
  },
  {
   "cell_type": "markdown",
   "id": "34124269",
   "metadata": {},
   "source": [
    "Или при помощи среза:"
   ]
  },
  {
   "cell_type": "code",
   "execution_count": null,
   "id": "6bec7ff7",
   "metadata": {},
   "outputs": [],
   "source": [
    "a[:3]"
   ]
  },
  {
   "cell_type": "markdown",
   "id": "b90b7de7",
   "metadata": {},
   "source": [
    "Многомерные массивы, например матрицы, можно создать из вложенных списков"
   ]
  },
  {
   "cell_type": "code",
   "execution_count": null,
   "id": "c4baa42d",
   "metadata": {},
   "outputs": [],
   "source": [
    "a = np.array([[1, 2, 3, 4], [5, 6, 7, 8], [9, 10, 11, 12]])\n",
    "a"
   ]
  },
  {
   "cell_type": "markdown",
   "id": "2bf923da",
   "metadata": {},
   "source": [
    "В NumPy измерение массива иногда называют «осью» (_axis_). Заметим, что все элементы по одной оси должны иметь одинаковую длину. Если попытаться создать массив неправильной формы, мы получим ошибку:"
   ]
  },
  {
   "cell_type": "code",
   "execution_count": null,
   "id": "ab045543",
   "metadata": {},
   "outputs": [],
   "source": [
    "try:\n",
    "    np.array([[3, 4], [5, 6, 7, 8], [9, 10, 11]])\n",
    "except ValueError as error:\n",
    "    print(error)"
   ]
  },
  {
   "cell_type": "markdown",
   "id": "9c47ad39",
   "metadata": {},
   "source": [
    "А вот и ещё одно отличие: чтобы обратиться к элементу, достаточно перечислить его координаты по осям через запятую. Так, для элемента матрицы в $i$-й строке и $j$-м столбце достаточно использовать `[i, j]`:"
   ]
  },
  {
   "cell_type": "code",
   "execution_count": null,
   "id": "7fb27b941602401d91542211134fc71a",
   "metadata": {},
   "outputs": [],
   "source": [
    "a[2, 3]"
   ]
  },
  {
   "cell_type": "markdown",
   "id": "6f183809",
   "metadata": {},
   "source": [
    "## Так зачем же нужен NumPy?\n",
    "\n",
    "Может показаться, что любые вычисления при желании можно провести и на чистом Python. Это правда. Однако NumPy оптимизирован для работы с массивами и предоставляет ряд готовых инструментов, которые позволяют писать меньше кода и выполнять операции быстрее.\n",
    "\n",
    "Забежим немного вперед и рассмотрим следующую ситуацию: даны две матрицы $A$ и $B$, необходимо найти их произведение $C = AB$. Несладко нам придется, если попытаться сделать это на чистом Python... (можете попробовать на досуге)\n"
   ]
  },
  {
   "cell_type": "code",
   "execution_count": null,
   "id": "a9809809",
   "metadata": {},
   "outputs": [],
   "source": [
    "A = np.array([[2, 5, 7], [4, 6, 8]])\n",
    "A"
   ]
  },
  {
   "cell_type": "code",
   "execution_count": null,
   "id": "ce715b20",
   "metadata": {},
   "outputs": [],
   "source": [
    "B = np.array([[1, 3], [9, 2], [4, 5]])\n",
    "B"
   ]
  },
  {
   "cell_type": "code",
   "execution_count": null,
   "id": "f2eb4925",
   "metadata": {},
   "outputs": [],
   "source": [
    "C = A @ B  # Магия!\n",
    "C"
   ]
  },
  {
   "cell_type": "markdown",
   "id": "0f550fe9",
   "metadata": {},
   "source": [
    "## Атрибуты массивов\n",
    "\n",
    "Теперь, когда у нас есть представление о том, зачем нужны массивы, пришло время познакомиться с некоторыми их свойствами: `ndim`, `shape`, `size`, и `dtype`."
   ]
  },
  {
   "cell_type": "code",
   "execution_count": null,
   "id": "3bbe3bbe",
   "metadata": {},
   "outputs": [],
   "source": [
    "a.ndim  # Размерность массива (количество осей)"
   ]
  },
  {
   "cell_type": "code",
   "execution_count": null,
   "id": "9394748e",
   "metadata": {},
   "outputs": [],
   "source": [
    "a.shape  # Форма массива (размер по каждой из оси)"
   ]
  },
  {
   "cell_type": "markdown",
   "id": "77938cc8",
   "metadata": {},
   "source": [
    "---"
   ]
  },
  {
   "cell_type": "markdown",
   "id": "a9acb384",
   "metadata": {},
   "source": [
    "### Первое задание в рамках нашего курса!\n",
    "\n",
    "Верно ли следующее выражение?\n",
    "\n",
    "```python\n",
    "len(a.shape) == a.ndim\n",
    "```"
   ]
  },
  {
   "cell_type": "markdown",
   "id": "e8cb1168-1c5d-453a-ba63-3ec67238896c",
   "metadata": {},
   "source": [
    "---"
   ]
  },
  {
   "cell_type": "code",
   "execution_count": null,
   "id": "66540e59",
   "metadata": {},
   "outputs": [],
   "source": [
    "a.size  # Общее количество элементов в массиве"
   ]
  },
  {
   "cell_type": "markdown",
   "id": "a9449408-ef23-4a11-8ab5-96afa3393768",
   "metadata": {},
   "source": [
    "---"
   ]
  },
  {
   "cell_type": "markdown",
   "id": "02a3b78f",
   "metadata": {},
   "source": [
    "### Задание\n",
    "\n",
    "Верно ли следующее утверждение?\n",
    "\n",
    "```python\n",
    "import math\n",
    "\n",
    "# math.prod(...) возвращает произведение элементов в итерируемом объекте\n",
    "a.size == math.prod(a.shape)\n",
    "```"
   ]
  },
  {
   "cell_type": "markdown",
   "id": "11499365",
   "metadata": {},
   "source": [
    "---"
   ]
  },
  {
   "cell_type": "markdown",
   "id": "f25925d9",
   "metadata": {},
   "source": [
    "Каждый массив в NumPy _гомогенен_, т.е. содержит элементы, принадлежащие к одному типу данных. Узнать его можно при помощи атрибута `dtype`."
   ]
  },
  {
   "cell_type": "code",
   "execution_count": null,
   "id": "f42a60f3",
   "metadata": {},
   "outputs": [],
   "source": [
    "a.dtype  # Тип данных элементов массива"
   ]
  },
  {
   "cell_type": "markdown",
   "id": "0f31df33",
   "metadata": {},
   "source": [
    "## Создание базовых массивов\n",
    "\n",
    "`np.zeros()`, `np.ones()`, `np.empty()`, `np.arange()` и `np.linspace()`"
   ]
  },
  {
   "cell_type": "code",
   "execution_count": null,
   "id": "3127fff0",
   "metadata": {},
   "outputs": [],
   "source": [
    "np.zeros(4)  # Массив нулей"
   ]
  },
  {
   "cell_type": "code",
   "execution_count": null,
   "id": "fd938e78",
   "metadata": {},
   "outputs": [],
   "source": [
    "np.ones(4)  # Массив единиц"
   ]
  },
  {
   "cell_type": "code",
   "execution_count": null,
   "id": "09fcaf48",
   "metadata": {},
   "outputs": [],
   "source": [
    "np.empty(4)  # Не инициализирует значения в созданном массиве, результат может быть разным"
   ]
  },
  {
   "cell_type": "code",
   "execution_count": null,
   "id": "43afc770",
   "metadata": {},
   "outputs": [],
   "source": [
    "np.arange(2, 10, 2)  # Аналог range в Python"
   ]
  },
  {
   "cell_type": "code",
   "execution_count": null,
   "id": "349a7c04-768b-4e7d-8f91-c66ff105a8d3",
   "metadata": {},
   "outputs": [],
   "source": [
    "np.arange(0, 5, 0.5)  # Но чуточку круче ;)"
   ]
  },
  {
   "cell_type": "code",
   "execution_count": null,
   "id": "8f6a4a94",
   "metadata": {},
   "outputs": [],
   "source": [
    "np.linspace(0, 10, num=5)  # Значения равномерно распределены на заданном интервале"
   ]
  },
  {
   "cell_type": "markdown",
   "id": "2e4ac7db",
   "metadata": {},
   "source": [
    "По умолчанию массивы, созданные таким образом, имеют тип данных `np.float64`, однако его можно изменить, передав соответствующий аргумент:"
   ]
  },
  {
   "cell_type": "code",
   "execution_count": null,
   "id": "01d12cb7-99d6-4cfb-82dc-cdfb2fb7fdde",
   "metadata": {},
   "outputs": [],
   "source": [
    "np.ones(4).dtype"
   ]
  },
  {
   "cell_type": "code",
   "execution_count": null,
   "id": "abe2d13e",
   "metadata": {},
   "outputs": [],
   "source": [
    "np.ones(4, dtype=np.int64)"
   ]
  },
  {
   "cell_type": "markdown",
   "id": "f2bb1343",
   "metadata": {},
   "source": [
    "Подробнее о создании массивов можно прочитать по [ссылке](https://numpy.org/doc/stable/user/quickstart.html#quickstart-array-creation)."
   ]
  },
  {
   "cell_type": "markdown",
   "id": "f359437f",
   "metadata": {},
   "source": [
    "## Индексация и срезы\n",
    "\n",
    "Как было сказано ранее, к элементам массивов в NumPy можно обращаться так же, как и к спискам в Python. Теперь же рассмотрим несколько менее тривиальных примеров:"
   ]
  },
  {
   "cell_type": "code",
   "execution_count": null,
   "id": "65193e92",
   "metadata": {},
   "outputs": [],
   "source": [
    "a = np.array([[1, 9, 8, 4], [2, 0, 4, 9]])\n",
    "a"
   ]
  },
  {
   "cell_type": "code",
   "execution_count": null,
   "id": "a6cd79bc",
   "metadata": {},
   "outputs": [],
   "source": [
    "a[0]  # 1-я строка матрицы"
   ]
  },
  {
   "cell_type": "code",
   "execution_count": null,
   "id": "394cf4bf",
   "metadata": {},
   "outputs": [],
   "source": [
    "a[:, 2]  # 3-й столбец матрицы"
   ]
  },
  {
   "cell_type": "markdown",
   "id": "a13b6b4d",
   "metadata": {},
   "source": [
    "**Пояснение:** двоеточие используется по аналогии с индексацией в Python, где `[n:]` означает «от n до конца», `[:n]` — «от начала до n», а `[:]` — «все элементы». В данном случае `:` означает «все строки»."
   ]
  },
  {
   "cell_type": "code",
   "execution_count": null,
   "id": "c3a1ec16",
   "metadata": {},
   "outputs": [],
   "source": [
    "a[:, ::2]  # Все строки, все столбцы, но столбцы с шагом 2"
   ]
  },
  {
   "cell_type": "code",
   "execution_count": null,
   "id": "745406f4",
   "metadata": {},
   "outputs": [],
   "source": [
    "a[:, ::-1]  # Все строки, все столбцы, но столбцы с шагом -1, т.е. в обратном порядке"
   ]
  },
  {
   "cell_type": "markdown",
   "id": "89e75238",
   "metadata": {},
   "source": [
    "Еще один полезный прием для обращения к элементам массива — создание масок:"
   ]
  },
  {
   "cell_type": "code",
   "execution_count": null,
   "id": "c0f2aab1",
   "metadata": {},
   "outputs": [],
   "source": [
    "mask = a > 5\n",
    "mask"
   ]
  },
  {
   "cell_type": "code",
   "execution_count": null,
   "id": "c4209fe9",
   "metadata": {},
   "outputs": [],
   "source": [
    "a[mask]"
   ]
  },
  {
   "cell_type": "code",
   "execution_count": null,
   "id": "8d1478b9",
   "metadata": {},
   "outputs": [],
   "source": [
    "mask = (a < 3) | (a > 5)  # Логическое ИЛИ\n",
    "mask"
   ]
  },
  {
   "cell_type": "code",
   "execution_count": null,
   "id": "83e9e471",
   "metadata": {},
   "outputs": [],
   "source": [
    "a[mask]"
   ]
  },
  {
   "cell_type": "code",
   "execution_count": null,
   "id": "c7586985",
   "metadata": {},
   "outputs": [],
   "source": [
    "mask = (a < 5) & (a % 2 == 0)  # Логическое И\n",
    "mask"
   ]
  },
  {
   "cell_type": "code",
   "execution_count": null,
   "id": "f7e7a296",
   "metadata": {},
   "outputs": [],
   "source": [
    "a[mask]"
   ]
  },
  {
   "cell_type": "markdown",
   "id": "4dd2e440",
   "metadata": {},
   "source": [
    "## Изменение формы массивов"
   ]
  },
  {
   "cell_type": "code",
   "execution_count": null,
   "id": "f55d3133",
   "metadata": {},
   "outputs": [],
   "source": [
    "a = np.arange(12)\n",
    "print(f\"{a.shape = }\")\n",
    "a"
   ]
  },
  {
   "cell_type": "markdown",
   "id": "9be56587",
   "metadata": {},
   "source": [
    "Один из самых полезных инструментов для изменения формы массива — метод `ndarray.reshape`:"
   ]
  },
  {
   "cell_type": "code",
   "execution_count": null,
   "id": "cd692595",
   "metadata": {},
   "outputs": [],
   "source": [
    "a = a.reshape(4, 3)\n",
    "print(f\"{a.shape = }\")\n",
    "a"
   ]
  },
  {
   "cell_type": "code",
   "execution_count": null,
   "id": "ab2f1c6a",
   "metadata": {},
   "outputs": [],
   "source": [
    "a = a.reshape(2, 2, 3)\n",
    "print(f\"{a.shape = }\")\n",
    "a"
   ]
  },
  {
   "cell_type": "markdown",
   "id": "738f5cd6",
   "metadata": {},
   "source": [
    "Иногда считать точное количество элементов по всем осям нецелесообразно — в этом случае можно указать `-1`, и NumPy сам вычислит нужный размер:"
   ]
  },
  {
   "cell_type": "code",
   "execution_count": null,
   "id": "d56acebc",
   "metadata": {},
   "outputs": [],
   "source": [
    "a = a.reshape(2, -1)\n",
    "print(f\"{a.shape = }\")\n",
    "a"
   ]
  },
  {
   "cell_type": "markdown",
   "id": "1e7b51a2",
   "metadata": {},
   "source": [
    "Главное помнить, что произведение размеров осей должно строго совпадать с количеством элементов в массиве"
   ]
  },
  {
   "cell_type": "code",
   "execution_count": null,
   "id": "29299d6a",
   "metadata": {},
   "outputs": [],
   "source": [
    "try:\n",
    "    a.reshape(4, 5)  # 4 * 5 не равно 12\n",
    "except ValueError as error:\n",
    "    print(error)"
   ]
  },
  {
   "cell_type": "code",
   "execution_count": null,
   "id": "21475138",
   "metadata": {},
   "outputs": [],
   "source": [
    "a = a.T  # Транспонирование матрицы\n",
    "print(f\"{a.shape = }\")\n",
    "a"
   ]
  },
  {
   "cell_type": "markdown",
   "id": "051eb8e1",
   "metadata": {},
   "source": [
    "Также полезно знать еще один прием, позволяющий добавить к массиву дополнительную ось:"
   ]
  },
  {
   "cell_type": "code",
   "execution_count": null,
   "id": "428dda31",
   "metadata": {},
   "outputs": [],
   "source": [
    "a = a[:, np.newaxis, :]  # Или можно использовать [:, None, :]\n",
    "print(f\"{a.shape = }\")\n",
    "a"
   ]
  },
  {
   "cell_type": "markdown",
   "id": "63267b3a",
   "metadata": {},
   "source": [
    "Для выпрямления массива можно использовать методы `flatten` и `ravel`. Не углубляясь в подробности, скажем, что `flatten` всегда возвращает копию данных:"
   ]
  },
  {
   "cell_type": "code",
   "execution_count": null,
   "id": "1ab294fa",
   "metadata": {},
   "outputs": [],
   "source": [
    "a = a.flatten()  # Выпрямление массива\n",
    "print(f\"{a.shape = }\")\n",
    "a"
   ]
  },
  {
   "cell_type": "markdown",
   "id": "4d26d290",
   "metadata": {},
   "source": [
    "---"
   ]
  },
  {
   "cell_type": "markdown",
   "id": "bacff855",
   "metadata": {
    "deletable": false,
    "editable": false
   },
   "source": [
    "### Задание\n",
    "\n",
    "Массив данных `temp_data` содержит информацию о погоде в некотором городе за последние две недели. Сейчас все наблюдения расположены вдоль одной оси. Приведите массив к форме, где одна из осей соответствует неделе.\n",
    "\n",
    "**Примечание:** для создания данных в этом задании используется генератор псевдослучайных чисел. Подробнее о работе с генератором псевдослучайных чисел в NumPy можно прочитать по [ссылке](https://numpy.org/doc/stable/reference/random/index.html#numpyrandom)."
   ]
  },
  {
   "cell_type": "code",
   "execution_count": null,
   "id": "81953ec6",
   "metadata": {
    "tags": [
     "otter_answer_cell"
    ]
   },
   "outputs": [],
   "source": [
    "np.random.seed(42)"
   ]
  },
  {
   "cell_type": "code",
   "execution_count": null,
   "id": "95aa6f3c",
   "metadata": {
    "tags": [
     "otter_answer_cell"
    ]
   },
   "outputs": [],
   "source": [
    "temp_data = np.random.uniform(20, 30, size=(14,)).round(1)  # Отсчет дней начинается с понедельника\n",
    "\n",
    "temp_data = ..."
   ]
  },
  {
   "cell_type": "code",
   "execution_count": null,
   "id": "8034ac9a",
   "metadata": {
    "deletable": false,
    "editable": false
   },
   "outputs": [],
   "source": [
    "grader.check(\"Task1\")"
   ]
  },
  {
   "cell_type": "markdown",
   "id": "f033d77b",
   "metadata": {},
   "source": [
    "---"
   ]
  },
  {
   "cell_type": "markdown",
   "id": "d5166b35",
   "metadata": {
    "deletable": false,
    "editable": false
   },
   "source": [
    "### Задание\n",
    "\n",
    "Запишите в переменную `temp_data_tuesday` температуру во вторник.\n"
   ]
  },
  {
   "cell_type": "code",
   "execution_count": null,
   "id": "5a44d3d5",
   "metadata": {
    "tags": [
     "otter_answer_cell"
    ]
   },
   "outputs": [],
   "source": [
    "temp_data_tuesday = ..."
   ]
  },
  {
   "cell_type": "code",
   "execution_count": null,
   "id": "154aebab",
   "metadata": {
    "deletable": false,
    "editable": false
   },
   "outputs": [],
   "source": [
    "grader.check(\"Task2\")"
   ]
  },
  {
   "cell_type": "markdown",
   "id": "16635444",
   "metadata": {},
   "source": [
    "---"
   ]
  },
  {
   "cell_type": "markdown",
   "id": "8cf368ae",
   "metadata": {
    "deletable": false,
    "editable": false
   },
   "source": [
    "### Задание\n",
    "\n",
    "Запишите в переменную `temp_data_weekend` температуру в выходные."
   ]
  },
  {
   "cell_type": "code",
   "execution_count": null,
   "id": "979d4697",
   "metadata": {
    "tags": [
     "otter_answer_cell"
    ]
   },
   "outputs": [],
   "source": [
    "temp_data_weekend = ..."
   ]
  },
  {
   "cell_type": "code",
   "execution_count": null,
   "id": "6d48c26a",
   "metadata": {
    "deletable": false,
    "editable": false
   },
   "outputs": [],
   "source": [
    "grader.check(\"Task3\")"
   ]
  },
  {
   "cell_type": "markdown",
   "id": "62f86166",
   "metadata": {},
   "source": [
    "## Базовые операции над массивами\n",
    "\n",
    "Итак, мы разобрались с созданием массивов всех возможных ~~цветов~~ форм. Теперь можно перейти к манипуляциям над ними:"
   ]
  },
  {
   "cell_type": "markdown",
   "id": "16562b02",
   "metadata": {},
   "source": [
    "![image](https://numpy.org/doc/stable/_images/np_array_dataones.png)"
   ]
  },
  {
   "cell_type": "code",
   "execution_count": null,
   "id": "6c190ab5",
   "metadata": {},
   "outputs": [],
   "source": [
    "data = np.array([1, 2])\n",
    "ones = np.ones(2, dtype=int)\n",
    "data + ones"
   ]
  },
  {
   "cell_type": "markdown",
   "id": "b539a547",
   "metadata": {},
   "source": [
    "![image](https://numpy.org/doc/stable/_images/np_data_plus_ones.png)"
   ]
  },
  {
   "cell_type": "markdown",
   "id": "9e9ff18f",
   "metadata": {},
   "source": [
    "Разумеется, кроме сложения мы также можем поэлементно вычитать, умножать и делить массивы:"
   ]
  },
  {
   "cell_type": "code",
   "execution_count": null,
   "id": "77438e8f",
   "metadata": {},
   "outputs": [],
   "source": [
    "data - ones"
   ]
  },
  {
   "cell_type": "code",
   "execution_count": null,
   "id": "95d8b720",
   "metadata": {},
   "outputs": [],
   "source": [
    "data * data"
   ]
  },
  {
   "cell_type": "code",
   "execution_count": null,
   "id": "7829a78d",
   "metadata": {},
   "outputs": [],
   "source": [
    "data / data"
   ]
  },
  {
   "cell_type": "markdown",
   "id": "980eae20",
   "metadata": {},
   "source": [
    "![image](https://numpy.org/doc/stable/_images/np_sub_mult_divide.png)"
   ]
  },
  {
   "cell_type": "markdown",
   "id": "747e2599",
   "metadata": {},
   "source": [
    "## Broadcasting\n",
    "\n",
    "> _Шишков, прости:_  \n",
    "> _Не знаю, как перевести._  \n",
    ">  \n",
    "> _— А. С. Пушкин, «Евгений Онегин»_\n",
    "\n",
    "Если формы массивов не совпадают, NumPy постарается привести их к одному виду, чтобы поэлементные операции стали возможными. Этот механизм называется _broadcasting_:"
   ]
  },
  {
   "cell_type": "code",
   "execution_count": null,
   "id": "8c5ec3a0",
   "metadata": {},
   "outputs": [],
   "source": [
    "data = np.array([1.0, 2.0])\n",
    "data * 1.6  # Умножение на скаляр"
   ]
  },
  {
   "cell_type": "markdown",
   "id": "d9f65b6a",
   "metadata": {},
   "source": [
    "![image](https://numpy.org/doc/stable/_images/np_multiply_broadcasting.png)"
   ]
  },
  {
   "cell_type": "markdown",
   "id": "fa3b3f35",
   "metadata": {},
   "source": [
    "Теперь рассмотрим более сложный пример с двумя массивами разной формы:"
   ]
  },
  {
   "cell_type": "code",
   "execution_count": null,
   "id": "3309c0ee",
   "metadata": {},
   "outputs": [],
   "source": [
    "a = np.arange(6).reshape(2, 3)\n",
    "print(f\"{a.shape = }\")\n",
    "a"
   ]
  },
  {
   "cell_type": "code",
   "execution_count": null,
   "id": "3cde038e",
   "metadata": {},
   "outputs": [],
   "source": [
    "b = np.array([0.5, 2.0])[:, None]\n",
    "print(f\"{b.shape = }\")\n",
    "b"
   ]
  },
  {
   "cell_type": "code",
   "execution_count": null,
   "id": "4bcdbbb4",
   "metadata": {},
   "outputs": [],
   "source": [
    "c = a * b  # NumPy приведет второй массив к форме первого\n",
    "print(f\"{c.shape = }\")\n",
    "c"
   ]
  },
  {
   "cell_type": "markdown",
   "id": "dd1cf0aa-d57b-464d-8cd4-2d068f07ecc3",
   "metadata": {},
   "source": [
    "---"
   ]
  },
  {
   "cell_type": "markdown",
   "id": "7b5acdaa",
   "metadata": {
    "deletable": false,
    "editable": false
   },
   "source": [
    "### Задание\n",
    "\n",
    "Переведите температуру из градусов Фаренгейта в градусы Цельсия по следующей формуле:\n",
    "\n",
    "$$ T_c = \\frac{5}{9} \\cdot (T_F - 32) $$\n",
    "\n",
    "Попробуйте угадать, температура чего была принята за 100 градусов в оригина"
   ]
  },
  {
   "cell_type": "code",
   "execution_count": null,
   "id": "96bc7f3a",
   "metadata": {
    "tags": [
     "otter_answer_cell"
    ]
   },
   "outputs": [],
   "source": [
    "t_f = np.array([0.0, 20.7, 100.0, 451.0, 1.9, 5.3])\n",
    "\n",
    "t_c = ..."
   ]
  },
  {
   "cell_type": "code",
   "execution_count": null,
   "id": "f681a51a",
   "metadata": {
    "deletable": false,
    "editable": false
   },
   "outputs": [],
   "source": [
    "grader.check(\"Task4\")"
   ]
  },
  {
   "cell_type": "markdown",
   "id": "3641ed0d-c808-42c0-a1fc-882e9019a706",
   "metadata": {},
   "source": [
    "---"
   ]
  },
  {
   "cell_type": "markdown",
   "id": "439383e0-63ad-4eef-b0a6-ed6801f9a397",
   "metadata": {},
   "source": [
    "## Сортировки"
   ]
  },
  {
   "cell_type": "code",
   "execution_count": null,
   "id": "5abf6519-6eee-4db1-a414-f305011ed6e5",
   "metadata": {},
   "outputs": [],
   "source": [
    "x = np.arange(12, 0, -1).reshape(3, 4)\n",
    "x"
   ]
  },
  {
   "cell_type": "code",
   "execution_count": null,
   "id": "1bf647d9-b411-44fe-bf70-8ccb5195da87",
   "metadata": {},
   "outputs": [],
   "source": [
    "np.sort(x, axis=None)"
   ]
  },
  {
   "cell_type": "code",
   "execution_count": null,
   "id": "a6698238-9a2a-46cd-9b87-b8db103055e1",
   "metadata": {},
   "outputs": [],
   "source": [
    "np.sort(x, axis=0)"
   ]
  },
  {
   "cell_type": "code",
   "execution_count": null,
   "id": "8143cdf7-a53d-4838-835f-fcc3d0d4898f",
   "metadata": {},
   "outputs": [],
   "source": [
    "np.sort(x, axis=-1)  # По умолчанию `axis=-1`"
   ]
  },
  {
   "cell_type": "code",
   "execution_count": null,
   "id": "c6e28882-b2b4-4e1b-be3e-c46fbe85c9f7",
   "metadata": {},
   "outputs": [],
   "source": [
    "x.sort()  # Сортировка in-place\n",
    "x"
   ]
  },
  {
   "cell_type": "code",
   "execution_count": null,
   "id": "c652b865-8baa-4f34-8c4c-c53e9409fae5",
   "metadata": {},
   "outputs": [],
   "source": [
    "np.argsort(x, axis=0)"
   ]
  },
  {
   "cell_type": "markdown",
   "id": "9f0a83ee",
   "metadata": {},
   "source": [
    "## Агрегирующие операции"
   ]
  },
  {
   "cell_type": "code",
   "execution_count": null,
   "id": "b4d23a37",
   "metadata": {},
   "outputs": [],
   "source": [
    "data = np.arange(1, 4)\n",
    "data"
   ]
  },
  {
   "cell_type": "code",
   "execution_count": null,
   "id": "c7ee1bc3",
   "metadata": {},
   "outputs": [],
   "source": [
    "data.max()"
   ]
  },
  {
   "cell_type": "code",
   "execution_count": null,
   "id": "2d5de944",
   "metadata": {},
   "outputs": [],
   "source": [
    "data.min()"
   ]
  },
  {
   "cell_type": "code",
   "execution_count": null,
   "id": "48d86c2f",
   "metadata": {},
   "outputs": [],
   "source": [
    "data.sum()"
   ]
  },
  {
   "cell_type": "markdown",
   "id": "3ae5dcd6",
   "metadata": {},
   "source": [
    "![image](https://numpy.org/doc/stable/_images/np_aggregation.png)"
   ]
  },
  {
   "cell_type": "markdown",
   "id": "9b6259ed",
   "metadata": {},
   "source": [
    "К полезным агрегирующим операциям также относятся `argmin`, `argmax`, `mean`, `std` и многие другие."
   ]
  },
  {
   "cell_type": "markdown",
   "id": "d130f442",
   "metadata": {},
   "source": [
    "Все агрегирующие операции принимают аргумент `axis`, указывающий, вдоль какой оси производить вычисления:"
   ]
  },
  {
   "cell_type": "code",
   "execution_count": null,
   "id": "28e3dbc5",
   "metadata": {},
   "outputs": [],
   "source": [
    "data = np.arange(12).reshape(3, 4)\n",
    "data"
   ]
  },
  {
   "cell_type": "code",
   "execution_count": null,
   "id": "8a480c4c",
   "metadata": {},
   "outputs": [],
   "source": [
    "data.sum()"
   ]
  },
  {
   "cell_type": "code",
   "execution_count": null,
   "id": "8e42b736",
   "metadata": {},
   "outputs": [],
   "source": [
    "data.sum(axis=0)"
   ]
  },
  {
   "cell_type": "code",
   "execution_count": null,
   "id": "d8828b19",
   "metadata": {},
   "outputs": [],
   "source": [
    "data.sum(axis=1)"
   ]
  },
  {
   "cell_type": "markdown",
   "id": "c3e04354-1e40-4987-8584-bbaebbd23771",
   "metadata": {},
   "source": [
    "---"
   ]
  },
  {
   "cell_type": "markdown",
   "id": "55c419ac-18f3-4fc3-b2b8-0350bf627944",
   "metadata": {
    "deletable": false,
    "editable": false
   },
   "source": [
    "### Задание\n",
    "\n",
    "Рассчитайте _средние значения_ вдоль оси `1`. Запрещено использовать `np.mean` и `np.ndarray.mean`.\n"
   ]
  },
  {
   "cell_type": "code",
   "execution_count": null,
   "id": "f80d3c24-b843-4956-a69c-d24ef3a05d9d",
   "metadata": {
    "tags": [
     "otter_answer_cell"
    ]
   },
   "outputs": [],
   "source": [
    "x = np.random.normal(size=(5, 4, 3))\n",
    "x"
   ]
  },
  {
   "cell_type": "code",
   "execution_count": null,
   "id": "686088b1-9d94-440d-802f-8f76eb886c81",
   "metadata": {
    "tags": [
     "otter_answer_cell"
    ]
   },
   "outputs": [],
   "source": [
    "x_mean_along_axis_1 = ...\n",
    "x_mean_along_axis_1"
   ]
  },
  {
   "cell_type": "code",
   "execution_count": null,
   "id": "47c259be",
   "metadata": {
    "deletable": false,
    "editable": false
   },
   "outputs": [],
   "source": [
    "grader.check(\"Task5\")"
   ]
  },
  {
   "cell_type": "markdown",
   "id": "c96bc352",
   "metadata": {},
   "source": [
    "---"
   ]
  },
  {
   "cell_type": "markdown",
   "id": "13cee945",
   "metadata": {
    "deletable": false,
    "editable": false
   },
   "source": [
    "### Задание\n",
    "\n",
    "Рассчитайте _стандартное отклонение_ вдоль оси `1`. Запрещено использовать `np.std` и `np.ndarray.std`. Зато использовать `mean` теперь можно :)"
   ]
  },
  {
   "cell_type": "code",
   "execution_count": null,
   "id": "f7e36e02",
   "metadata": {
    "tags": [
     "otter_answer_cell"
    ]
   },
   "outputs": [],
   "source": [
    "x_std_along_axis_0 = ...\n",
    "x_std_along_axis_0"
   ]
  },
  {
   "cell_type": "code",
   "execution_count": null,
   "id": "74cf046b",
   "metadata": {
    "deletable": false,
    "editable": false
   },
   "outputs": [],
   "source": [
    "grader.check(\"Task6\")"
   ]
  },
  {
   "cell_type": "markdown",
   "id": "e2dbb249-ca3d-405f-8af2-dbcada657e59",
   "metadata": {},
   "source": [
    "---"
   ]
  },
  {
   "cell_type": "markdown",
   "id": "6df0db6a",
   "metadata": {
    "deletable": false,
    "editable": false
   },
   "source": [
    "### Задание\n",
    "\n",
    "Рассчитайте _евклидово расстояние_ между заданными векторами $\\mathbf{v}$ и $\\mathbf{u}$:\n",
    "\n",
    "\n",
    "$$ d(\\mathbf{v}, \\mathbf{u}) = \\sqrt{\\sum{(v_i - u_i) ^ 2}} $$"
   ]
  },
  {
   "cell_type": "code",
   "execution_count": null,
   "id": "be82fa8d-5013-4fc8-a39e-27e032be3d0e",
   "metadata": {
    "deletable": false,
    "editable": false
   },
   "outputs": [],
   "source": [
    "v = np.array([1.2, 1.9, 0.8, 0.2])\n",
    "u = np.array([1.4, 2.1, 1.1, 0.5])"
   ]
  },
  {
   "cell_type": "code",
   "execution_count": null,
   "id": "4573a8e3",
   "metadata": {
    "tags": [
     "otter_answer_cell"
    ]
   },
   "outputs": [],
   "source": [
    "d = ((v - u) ** 2).sum() ** 0.5  # YOUR CODE HERE"
   ]
  },
  {
   "cell_type": "code",
   "execution_count": null,
   "id": "5c4cdd2c",
   "metadata": {
    "deletable": false,
    "editable": false
   },
   "outputs": [],
   "source": [
    "grader.check(\"Task7\")"
   ]
  },
  {
   "cell_type": "markdown",
   "id": "d175aacd-1f30-4d57-a390-a5a1521844b3",
   "metadata": {},
   "source": [
    "---"
   ]
  },
  {
   "cell_type": "markdown",
   "id": "2eb23b76",
   "metadata": {
    "deletable": false,
    "editable": false
   },
   "source": [
    "### Задание\n",
    "\n",
    "Рассчитайте _манхэттенское расстояние_ между заданными векторами $\\mathbf{v}$ и $\\mathbf{u}$:\n",
    "\n",
    "$$ d(\\mathbf{v}, \\mathbf{u}) = \\sum{|v_i - u_i|} $$\n"
   ]
  },
  {
   "cell_type": "code",
   "execution_count": null,
   "id": "e8c13455",
   "metadata": {
    "tags": [
     "otter_answer_cell"
    ]
   },
   "outputs": [],
   "source": [
    "d = ..."
   ]
  },
  {
   "cell_type": "code",
   "execution_count": null,
   "id": "eee4da19",
   "metadata": {
    "deletable": false,
    "editable": false
   },
   "outputs": [],
   "source": [
    "grader.check(\"Task8\")"
   ]
  },
  {
   "cell_type": "markdown",
   "id": "35cc3efe-c6bd-45cc-a6c3-f0321a7fbbc1",
   "metadata": {},
   "source": [
    "---"
   ]
  },
  {
   "cell_type": "markdown",
   "id": "a008f1f5",
   "metadata": {},
   "source": [
    "## Линейная алгебра"
   ]
  },
  {
   "cell_type": "markdown",
   "id": "8382f3ba",
   "metadata": {},
   "source": [
    "NumPy предоставляет широкий набор инструментов линейной алгебры. Они собраны в модуле `np.linalg`, ознакомиться с документацией можно по [ссылке](https://numpy.org/doc/2.1/reference/routines.linalg.html). Ранее упомянутый оператор `@` является синонимом метода `dot` и подходит как для матричного умножения, так и для умножения матрицы на вектор."
   ]
  },
  {
   "cell_type": "code",
   "execution_count": null,
   "id": "b2d2fba5",
   "metadata": {},
   "outputs": [],
   "source": [
    "A"
   ]
  },
  {
   "cell_type": "code",
   "execution_count": null,
   "id": "2850718b",
   "metadata": {},
   "outputs": [],
   "source": [
    "B"
   ]
  },
  {
   "cell_type": "code",
   "execution_count": null,
   "id": "a7866c2b",
   "metadata": {},
   "outputs": [],
   "source": [
    "A.dot(B)"
   ]
  },
  {
   "cell_type": "code",
   "execution_count": null,
   "id": "34c088fb",
   "metadata": {},
   "outputs": [],
   "source": [
    "A @ B"
   ]
  },
  {
   "cell_type": "code",
   "execution_count": null,
   "id": "df13ba6f",
   "metadata": {},
   "outputs": [],
   "source": [
    "x = np.array([0.5, 2.0, 0.0])\n",
    "x"
   ]
  },
  {
   "cell_type": "code",
   "execution_count": null,
   "id": "8979be49",
   "metadata": {},
   "outputs": [],
   "source": [
    "A.dot(x)  # Или A @ x"
   ]
  },
  {
   "cell_type": "markdown",
   "id": "404f1ddf",
   "metadata": {},
   "source": [
    "## Чтение и запись данных\n",
    "\n",
    "Иногда необходимо сохранить массив в файл или прочитать данные из файла. Для работы с текстовыми файлами в NumPy используются функции `loadtxt` и `savetxt`.  \n",
    "Кроме того, NumPy умеет сохранять и читать данные в бинарном формате `.npy` — для этого применяются функции `save` и `load`."
   ]
  },
  {
   "cell_type": "code",
   "execution_count": null,
   "id": "7d0b5352",
   "metadata": {},
   "outputs": [],
   "source": [
    "a = np.random.uniform(size=(5, 4))\n",
    "a"
   ]
  },
  {
   "cell_type": "code",
   "execution_count": null,
   "id": "04bb5ae8",
   "metadata": {},
   "outputs": [],
   "source": [
    "np.savetxt(\"example_array.txt\", a, fmt=\"%.3f\", delimiter=\"\\t\")"
   ]
  },
  {
   "cell_type": "code",
   "execution_count": null,
   "id": "21f390e1",
   "metadata": {},
   "outputs": [],
   "source": [
    "!cat example_array.txt"
   ]
  },
  {
   "cell_type": "code",
   "execution_count": null,
   "id": "e6b48cd8",
   "metadata": {},
   "outputs": [],
   "source": [
    "np.loadtxt(\"example_array.txt\")"
   ]
  },
  {
   "cell_type": "code",
   "execution_count": null,
   "id": "4c60efcd",
   "metadata": {},
   "outputs": [],
   "source": [
    "np.save(\"example_array.npy\", a)"
   ]
  },
  {
   "cell_type": "code",
   "execution_count": null,
   "id": "b7a9326f",
   "metadata": {},
   "outputs": [],
   "source": [
    "np.load(\"example_array.npy\")"
   ]
  },
  {
   "cell_type": "code",
   "execution_count": null,
   "id": "4b8fa06c-46c5-4721-ba80-b16b008908ac",
   "metadata": {},
   "outputs": [],
   "source": []
  },
  {
   "cell_type": "markdown",
   "id": "1d3cb490",
   "metadata": {
    "deletable": false,
    "editable": false
   },
   "source": [
    "## Submission\n",
    "\n",
    "Make sure you have run all cells in your notebook in order before running the cell below, so that all images/graphs appear in the output. The cell below will generate a zip file for you to submit. **Please save before exporting!**"
   ]
  },
  {
   "cell_type": "code",
   "execution_count": null,
   "id": "66c7dc2d",
   "metadata": {
    "deletable": false,
    "editable": false
   },
   "outputs": [],
   "source": [
    "# Save your notebook first, then run this cell to export your submission.\n",
    "grader.export(run_tests=True)"
   ]
  },
  {
   "cell_type": "markdown",
   "id": "f03f419c",
   "metadata": {},
   "source": [
    " "
   ]
  }
 ],
 "metadata": {
  "kernelspec": {
   "display_name": "Python 3 (ipykernel)",
   "language": "python",
   "name": "python3"
  },
  "language_info": {
   "codemirror_mode": {
    "name": "ipython",
    "version": 3
   },
   "file_extension": ".py",
   "mimetype": "text/x-python",
   "name": "python",
   "nbconvert_exporter": "python",
   "pygments_lexer": "ipython3",
   "version": "3.12.3"
  },
  "otter": {
   "OK_FORMAT": true,
   "assignment_name": "intro_to_numpy",
   "tests": {
    "Task1": {
     "name": "Task1",
     "points": null,
     "suites": [
      {
       "cases": [
        {
         "code": ">>> assert temp_data.shape == (2, 7)\n",
         "hidden": false,
         "locked": false
        }
       ],
       "scored": true,
       "setup": "",
       "teardown": "",
       "type": "doctest"
      }
     ]
    },
    "Task2": {
     "name": "Task2",
     "points": null,
     "suites": [
      {
       "cases": [
        {
         "code": ">>> assert temp_data_tuesday.shape == (2,)\n>>> assert np.isclose(temp_data_tuesday[0], 29.5)\n",
         "hidden": false,
         "locked": false
        }
       ],
       "scored": true,
       "setup": "",
       "teardown": "",
       "type": "doctest"
      }
     ]
    },
    "Task3": {
     "name": "Task3",
     "points": null,
     "suites": [
      {
       "cases": [
        {
         "code": ">>> assert temp_data_weekend.shape == (2, 2)\n>>> assert np.isclose(temp_data_weekend[1, 1], 22.1)\n",
         "hidden": false,
         "locked": false
        }
       ],
       "scored": true,
       "setup": "",
       "teardown": "",
       "type": "doctest"
      }
     ]
    },
    "Task4": {
     "name": "Task4",
     "points": null,
     "suites": [
      {
       "cases": [
        {
         "code": ">>> assert np.isclose(t_c[2], 37.777, atol=0.001)\n",
         "hidden": false,
         "locked": false
        }
       ],
       "scored": true,
       "setup": "",
       "teardown": "",
       "type": "doctest"
      }
     ]
    },
    "Task5": {
     "name": "Task5",
     "points": null,
     "suites": [
      {
       "cases": [
        {
         "code": ">>> assert np.allclose(x_mean_along_axis_1, x.mean(axis=1))\n",
         "hidden": false,
         "locked": false
        }
       ],
       "scored": true,
       "setup": "",
       "teardown": "",
       "type": "doctest"
      }
     ]
    },
    "Task6": {
     "name": "Task6",
     "points": null,
     "suites": [
      {
       "cases": [
        {
         "code": ">>> assert np.allclose(x_std_along_axis_0, x.std(axis=0))\n",
         "hidden": false,
         "locked": false
        }
       ],
       "scored": true,
       "setup": "",
       "teardown": "",
       "type": "doctest"
      }
     ]
    },
    "Task7": {
     "name": "Task7",
     "points": null,
     "suites": [
      {
       "cases": [
        {
         "code": ">>> assert np.isclose(d, 0.51, atol=0.001)\n",
         "hidden": false,
         "locked": false
        }
       ],
       "scored": true,
       "setup": "",
       "teardown": "",
       "type": "doctest"
      }
     ]
    },
    "Task8": {
     "name": "Task8",
     "points": null,
     "suites": [
      {
       "cases": [
        {
         "code": ">>> assert np.isclose(d, 1.0, atol=0.001)\n",
         "hidden": false,
         "locked": false
        }
       ],
       "scored": true,
       "setup": "",
       "teardown": "",
       "type": "doctest"
      }
     ]
    }
   }
  }
 },
 "nbformat": 4,
 "nbformat_minor": 5
}

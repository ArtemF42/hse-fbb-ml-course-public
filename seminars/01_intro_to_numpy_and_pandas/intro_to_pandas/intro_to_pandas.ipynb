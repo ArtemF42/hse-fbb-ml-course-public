{
 "cells": [
  {
   "cell_type": "markdown",
   "id": "7713e51f",
   "metadata": {},
   "source": [
    "# Введение в Pandas\n",
    "\n",
    "Данный семинар является расширенной адаптацией [курса Pandas от Kaggle](https://www.kaggle.com/learn/pandas).  \n",
    "\n",
    "Pandas — это библиотека с открытым исходным кодом для работы с табличными данными в Python. Она проста в освоении и использовании и содержит большой набор готовых инструментов. Основной недостаток Pandas — низкая производительность при работе с большими объемами данных, что делает библиотеку неприменимой для промышленных задач. Однако она идеально подходит для обучения, анализа небольших датасетов и экспериментов."
   ]
  },
  {
   "cell_type": "markdown",
   "id": "11513c4f",
   "metadata": {},
   "source": [
    "## Установка Pandas\n",
    "\n",
    "Чтобы [установить Pandas](https://pandas.pydata.org/docs/getting_started/install.html), воспользуйтесь командой:\n",
    "\n",
    "```bash\n",
    "pip install pandas\n",
    "```\n",
    "\n",
    "или, если используете [uv](https://docs.astral.sh/uv/):\n",
    "\n",
    "```bash\n",
    "uv pip install pandas\n",
    "```"
   ]
  },
  {
   "cell_type": "code",
   "execution_count": null,
   "id": "492f1743",
   "metadata": {},
   "outputs": [],
   "source": [
    "# !pip install pandas\n",
    "# !uv pip install pandas\n",
    "\n",
    "# Для работы с `xlsx` и `parquet` требуются дополнительные зависимости\n",
    "# !pip install pandas[excel,parquet]\n",
    "# !uv pip install pandas[excel,parquet]"
   ]
  },
  {
   "cell_type": "markdown",
   "id": "cc2acef0",
   "metadata": {},
   "source": [
    "Теперь можно импортировать Pandas:"
   ]
  },
  {
   "cell_type": "code",
   "execution_count": null,
   "id": "cb044b02",
   "metadata": {},
   "outputs": [],
   "source": [
    "import pandas as pd\n",
    "\n",
    "pd.__version__"
   ]
  },
  {
   "cell_type": "markdown",
   "id": "ad988589",
   "metadata": {},
   "source": [
    "## Первый взгляд на `Series` и `DataFrame`"
   ]
  },
  {
   "cell_type": "markdown",
   "id": "37201a2d",
   "metadata": {},
   "source": [
    "Основными объектами в Pandas являются `Series` и `DataFrame`. `DataFrame` — это таблица. Мы легко можем создать `DataFrame` из словаря, используя конструктор `pd.DataFrame()`:"
   ]
  },
  {
   "cell_type": "code",
   "execution_count": null,
   "id": "2131bdc5",
   "metadata": {},
   "outputs": [],
   "source": [
    "data = {\n",
    "    \"Age\": [34, 41, 29, 52],\n",
    "    \"Sex\": [\"M\", \"F\", \"M\", \"F\"],\n",
    "    \"Height (cm)\": [178, 165, 182, 170],\n",
    "    \"Weight (kg)\": [78.6, 62.3, 85.9, 70.2],\n",
    "    \"HDL (mg/dL)\": [55.3, 62.7, 47.1, 58.6],\n",
    "    \"LDL (mg/dL)\": [128.4, 102.9, 141.2, 116.5],\n",
    "}\n",
    "res = pd.DataFrame(data)  # Создадим `DataFrame`, содержащий результаты анализов\n",
    "res"
   ]
  },
  {
   "cell_type": "markdown",
   "id": "3d53db2f",
   "metadata": {},
   "source": [
    "Заметим, что ключи словаря превратились в названия столбцов, а значения — в их содержимое. Узнать, какие столбцы есть в `DataFrame`, можно при помощи атрибута `columns`:"
   ]
  },
  {
   "cell_type": "code",
   "execution_count": null,
   "id": "e16cce71",
   "metadata": {},
   "outputs": [],
   "source": [
    "res.columns  # Для хранения Pandas использует специальный класс `pd.Index`"
   ]
  },
  {
   "cell_type": "markdown",
   "id": "9c501c64",
   "metadata": {},
   "source": [
    "Каждая строка `DataFrame` имеет уникальную метку (`index`). По умолчанию Pandas присваивает строкам порядковые номера 0, 1, 2, ..."
   ]
  },
  {
   "cell_type": "code",
   "execution_count": null,
   "id": "1f3cbcea",
   "metadata": {},
   "outputs": [],
   "source": [
    "res.index"
   ]
  },
  {
   "cell_type": "markdown",
   "id": "12aaae92",
   "metadata": {},
   "source": [
    "Мы легко можем задать метки строк с помощью аргумента `index` при создании `DataFrame` или изменить их позже:"
   ]
  },
  {
   "cell_type": "code",
   "execution_count": null,
   "id": "d47e1bef",
   "metadata": {},
   "outputs": [],
   "source": [
    "res = pd.DataFrame(data, index=[\"Patient 1\", \"Patient 2\", \"Patient 3\", \"Patient 4\"])\n",
    "res"
   ]
  },
  {
   "cell_type": "markdown",
   "id": "5c7d2f96",
   "metadata": {},
   "source": [
    "Каждая `Series` — это последовательность данных одного типа. Забегая вперед, скажем, что столбец в `DataFrame` — это `Series`. Мы легко можем создать `Series` из списка:"
   ]
  },
  {
   "cell_type": "code",
   "execution_count": null,
   "id": "abb8c58e",
   "metadata": {},
   "outputs": [],
   "source": [
    "pd.Series([1, 9, 8, 4])"
   ]
  },
  {
   "cell_type": "markdown",
   "id": "a6f7c555",
   "metadata": {},
   "source": [
    "В отличие от списков, мы можем присвоить `Series` имя `name`, а каждый элемент в ней, кроме числового индекса, может иметь еще и метку `index`:"
   ]
  },
  {
   "cell_type": "code",
   "execution_count": null,
   "id": "5a699874",
   "metadata": {},
   "outputs": [],
   "source": [
    "pd.Series([55.2, 47.9, 62.1], index=[\"Patient 1\", \"Patient 2\", \"Patient 3\"], name=\"HDL (mg/dL)\")"
   ]
  },
  {
   "cell_type": "markdown",
   "id": "9488507d",
   "metadata": {},
   "source": [
    "Таким образом, `DataFrame` можно представить как несколько «склеенных» вместе `Series`."
   ]
  },
  {
   "cell_type": "markdown",
   "id": "32e090d3",
   "metadata": {},
   "source": [
    "## Чтение и запись данных"
   ]
  },
  {
   "cell_type": "markdown",
   "id": "dd79164d",
   "metadata": {},
   "source": [
    "На практике создание `DataFrame` из словаря или другого объекта — не самый распространенный способ. Чаще мы хотим прочитать данные из уже существующего источника, например результаты, полученные на измерительном приборе.  \n",
    "\n",
    "Прежде чем продолжить, кратко обсудим форматы, которые мы можем встретить при работе с данными. Самый простой из них — `csv` (_comma-separated values_) и его модификации: `tsv` (_tab-separated values_) и `psv` (_pipe-separated values_). Все они устроены одинаково и представляют собой текстовый файл, хранящий значения, разделенные некоторым символом. Пример:  \n",
    "\n",
    "```csv\n",
    "Name,Age,Sex,Mark\n",
    "Anna,22,F,5\n",
    "Bob,25,M,4\n",
    "Clara,23,F,5\n",
    "```\n",
    "\n",
    "С форматом `xlsx`, думается, все и так хорошо знакомы, он используется в Excel и подобных приложениях. Для хранения больших объемов данных иногда используется бинарный формат `parquet`. Для каждого из этих форматов в Pandas есть инструмент для чтения: `read_csv`, `read_excel` и `read_parquet`.\n",
    "\n",
    "Далее мы будем работать с датасетом [Titanic](https://www.kaggle.com/competitions/titanic/data). Он хранится в формате `csv` в файле `train.csv`:"
   ]
  },
  {
   "cell_type": "code",
   "execution_count": null,
   "id": "d93e5996",
   "metadata": {},
   "outputs": [],
   "source": [
    "!head train.csv"
   ]
  },
  {
   "cell_type": "code",
   "execution_count": null,
   "id": "f7337fc4",
   "metadata": {},
   "outputs": [],
   "source": [
    "data = pd.read_csv(\"train.csv\")\n",
    "type(data)"
   ]
  },
  {
   "cell_type": "markdown",
   "id": "1ffdeed0",
   "metadata": {},
   "source": [
    "**Рекомендация:** ознакомьтесь подробнее с [документацией](https://pandas.pydata.org/docs/reference/api/pandas.read_csv.html) `read_csv`, изучите аргументы `sep`, `header`, `index_col` и другие."
   ]
  },
  {
   "cell_type": "markdown",
   "id": "4570f3e4",
   "metadata": {},
   "source": [
    "А вот и пример записи в файл формата `parquet` (не пытайтесь открыть его в текстовом редакторе — это бинарный файл):"
   ]
  },
  {
   "cell_type": "code",
   "execution_count": null,
   "id": "341364bc",
   "metadata": {},
   "outputs": [],
   "source": [
    "data.to_parquet(\"titanic.parquet\")"
   ]
  },
  {
   "cell_type": "markdown",
   "id": "50088770",
   "metadata": {},
   "source": [
    "Аналогично, методы `DataFrame.to_csv()` и `DataFrame.to_excel()` используются для записи данных в `csv` и `xlsx` форматах соответственно:"
   ]
  },
  {
   "cell_type": "code",
   "execution_count": null,
   "id": "f958cda0",
   "metadata": {},
   "outputs": [],
   "source": [
    "data.to_csv(\"titanic.csv\")\n",
    "data.to_excel(\"titanic.xlsx\")"
   ]
  },
  {
   "cell_type": "markdown",
   "id": "550b3ee2",
   "metadata": {},
   "source": [
    "**Примечание:** если требуется записать в `xlsx` файл несколько листов с данными, необходимо использовать `ExcelWriter` (см. [документацию](https://pandas.pydata.org/docs/reference/api/pandas.DataFrame.to_excel.html))."
   ]
  },
  {
   "cell_type": "markdown",
   "id": "3e95b1c2",
   "metadata": {},
   "source": [
    "## Первое знакомство с данными\n",
    "\n",
    "Теперь, когда мы разобрались, как прочитать данные, нужно их внимательно изучить. Начнем с самых основ:"
   ]
  },
  {
   "cell_type": "code",
   "execution_count": null,
   "id": "20ae7d96",
   "metadata": {},
   "outputs": [],
   "source": [
    "data.shape  # Количество строк и столбцов в таблице"
   ]
  },
  {
   "cell_type": "code",
   "execution_count": null,
   "id": "0884d937",
   "metadata": {},
   "outputs": [],
   "source": [
    "len(data)  # Количество строк в таблице"
   ]
  },
  {
   "cell_type": "markdown",
   "id": "2db84f5a",
   "metadata": {},
   "source": [
    "Всегда полезно посмотреть на данные глазами. Разумеется, быстро просмотреть сотни строк мы не можем, поэтому ограничимся лишь отдельными примерами:"
   ]
  },
  {
   "cell_type": "code",
   "execution_count": null,
   "id": "2b8cd34c",
   "metadata": {},
   "outputs": [],
   "source": [
    "data.head()  # Первые `n` строк, по умолчанию `n=5`"
   ]
  },
  {
   "cell_type": "code",
   "execution_count": null,
   "id": "1dfa2e2c",
   "metadata": {},
   "outputs": [],
   "source": [
    "data.tail()  # Последние `n` строк, по умолчанию `n=5`"
   ]
  },
  {
   "cell_type": "code",
   "execution_count": null,
   "id": "737e4999",
   "metadata": {},
   "outputs": [],
   "source": [
    "data.sample(5)  # Случайные `n` строк, по умолчанию `n=1`"
   ]
  },
  {
   "cell_type": "markdown",
   "id": "1aa39277",
   "metadata": {},
   "source": [
    "## Индексация, выбор и присваивание\n",
    "\n",
    "Классический анализ данных включает различные манипуляции над столбцами и строками. Например, у нас есть столбцы `Height (cm)` и `Weight (kg)`, а мы хотим посчитать BMI (body mass index). Для этого необходимо научиться обращаться к уже существующим элементам таблицы и создавать новые."
   ]
  },
  {
   "cell_type": "markdown",
   "id": "81a84184",
   "metadata": {},
   "source": [
    "К столбцу `DataFrame` можно обратиться, указав его название в квадратных скобках:"
   ]
  },
  {
   "cell_type": "code",
   "execution_count": null,
   "id": "4937dc75",
   "metadata": {},
   "outputs": [],
   "source": [
    "data[\"Name\"]"
   ]
  },
  {
   "cell_type": "code",
   "execution_count": null,
   "id": "56f9f777",
   "metadata": {},
   "outputs": [],
   "source": [
    "# Ранее было упомянуто, что столбец `DataFrame` — это `Series`. Проверим!\n",
    "type(data[\"Name\"])"
   ]
  },
  {
   "cell_type": "markdown",
   "id": "78da7507",
   "metadata": {},
   "source": [
    "В некоторых случаях (если в названии столбца нет пробелов и специальных символов) допустимо использовать альтернативный синтаксис:"
   ]
  },
  {
   "cell_type": "code",
   "execution_count": null,
   "id": "1528a438",
   "metadata": {},
   "outputs": [],
   "source": [
    "data.Name"
   ]
  },
  {
   "cell_type": "markdown",
   "id": "0217e18e",
   "metadata": {},
   "source": [
    "Если же мы хотим получить сразу несколько столбцов, необходимо передать список их названий:"
   ]
  },
  {
   "cell_type": "code",
   "execution_count": null,
   "id": "35c2b6df",
   "metadata": {},
   "outputs": [],
   "source": [
    "data[[\"Name\", \"Survived\"]]"
   ]
  },
  {
   "cell_type": "code",
   "execution_count": null,
   "id": "8955c5b8",
   "metadata": {},
   "outputs": [],
   "source": [
    "type(data[[\"Name\", \"Survived\"]])"
   ]
  },
  {
   "cell_type": "markdown",
   "id": "0f4e49f1",
   "metadata": {},
   "source": [
    "Мы уже знаем, что `Series` напоминает список. Неудивительно, что мы можем углубиться и взять конкретное значение по индексу."
   ]
  },
  {
   "cell_type": "code",
   "execution_count": null,
   "id": "e2404fb5",
   "metadata": {},
   "outputs": [],
   "source": [
    "data[\"Name\"][451]"
   ]
  },
  {
   "cell_type": "markdown",
   "id": "75265905",
   "metadata": {},
   "source": [
    "Как и в NumPy, мы можем использовать маски для выделения данных. Например:"
   ]
  },
  {
   "cell_type": "code",
   "execution_count": null,
   "id": "3407be86",
   "metadata": {},
   "outputs": [],
   "source": [
    "mask = data[\"Sex\"] == \"female\"\n",
    "mask"
   ]
  },
  {
   "cell_type": "code",
   "execution_count": null,
   "id": "97607c58",
   "metadata": {},
   "outputs": [],
   "source": [
    "data[mask]"
   ]
  },
  {
   "cell_type": "markdown",
   "id": "442d3e49",
   "metadata": {},
   "source": [
    "Кстати, инвертировать маску можно с помощью оператора `~`:"
   ]
  },
  {
   "cell_type": "code",
   "execution_count": null,
   "id": "7fb27b941602401d91542211134fc71a",
   "metadata": {},
   "outputs": [],
   "source": [
    "~mask"
   ]
  },
  {
   "cell_type": "code",
   "execution_count": null,
   "id": "5afd495e",
   "metadata": {},
   "outputs": [],
   "source": [
    "data[~mask]"
   ]
  },
  {
   "cell_type": "markdown",
   "id": "3f2ce9e5",
   "metadata": {},
   "source": [
    "---"
   ]
  },
  {
   "cell_type": "markdown",
   "id": "9e571051",
   "metadata": {},
   "source": [
    "### Задание\n",
    "\n",
    "Используя маски, создайте `DataFrame`, содержащий строки, где `Embarked` равно `\"S\"` и `Pclass` больше `1`.\n",
    "\n",
    "**Подсказка:** помните, что для объединения условий можно использовать операторы `|` и `&`."
   ]
  },
  {
   "cell_type": "code",
   "execution_count": null,
   "id": "913b19e9",
   "metadata": {},
   "outputs": [],
   "source": [
    "# YOUR CODE HERE"
   ]
  },
  {
   "cell_type": "markdown",
   "id": "d8ce1861",
   "metadata": {},
   "source": [
    "---"
   ]
  },
  {
   "cell_type": "markdown",
   "id": "4a5bc4a0",
   "metadata": {},
   "source": [
    "Теперь мы готовы перейти к одной из самых важных тем в данном разделе — к операторам `iloc` и `loc`. Они нужны для более сложных операций выделения. Правило простое:\n",
    "\n",
    "- `iloc` использует **числовые индексы** (см. [_selection by position_](https://pandas.pydata.org/docs/user_guide/indexing.html#selection-by-position)) строк и столбцов;\n",
    "- `loc` использует **имена** (см. [_selection by label_](https://pandas.pydata.org/docs/user_guide/indexing.html#selection-by-label)) строк и столбцов.\n",
    "\n",
    "Давайте попробуем на практике:"
   ]
  },
  {
   "cell_type": "code",
   "execution_count": null,
   "id": "24aaffa3",
   "metadata": {},
   "outputs": [],
   "source": [
    "data.iloc[0]  # Первая строка"
   ]
  },
  {
   "cell_type": "code",
   "execution_count": null,
   "id": "a673913f",
   "metadata": {},
   "outputs": [],
   "source": [
    "data.iloc[:, 0]  # Все строки, первый столбец"
   ]
  },
  {
   "cell_type": "code",
   "execution_count": null,
   "id": "aa6970aa",
   "metadata": {},
   "outputs": [],
   "source": [
    "data.iloc[::2, :5]  # Строки через одну, первые 5 столбцов"
   ]
  },
  {
   "cell_type": "code",
   "execution_count": null,
   "id": "483e0968",
   "metadata": {},
   "outputs": [],
   "source": [
    "data.iloc[-100:, [0, 1, 5]]  # Последние 100 строк, 1-й, 2-й и 6-й столбцы"
   ]
  },
  {
   "cell_type": "code",
   "execution_count": null,
   "id": "831a96cb",
   "metadata": {},
   "outputs": [],
   "source": [
    "data.loc[:, \"Name\":]  # Все столбцы, начиная с Name"
   ]
  },
  {
   "cell_type": "markdown",
   "id": "7cca2aca",
   "metadata": {},
   "source": [
    "Наконец, приведем несколько примеров создания новых столбцов:"
   ]
  },
  {
   "cell_type": "code",
   "execution_count": null,
   "id": "d8ef786b",
   "metadata": {},
   "outputs": [],
   "source": [
    "data[\"Ship\"] = \"RMS Titanic\"  # Константный признак\n",
    "data[\"Ship\"]"
   ]
  },
  {
   "cell_type": "code",
   "execution_count": null,
   "id": "b53139a7",
   "metadata": {},
   "outputs": [],
   "source": [
    "data[\"PassengerIdReversed\"] = list(range(len(data), 0, -1))  # Признак на основе списка\n",
    "data[\"PassengerIdReversed\"]"
   ]
  },
  {
   "cell_type": "code",
   "execution_count": null,
   "id": "95b8c36b",
   "metadata": {},
   "outputs": [],
   "source": [
    "data[\"IsAdult\"] = data[\"Age\"] > 16  # Признак, рассчитанный на основе другого столбца"
   ]
  },
  {
   "cell_type": "markdown",
   "id": "8d9e88dd",
   "metadata": {},
   "source": [
    "Чтобы удалить столбцы из таблицы, необходимо воспользоваться методом `drop` (аргумент `axis=1` означает, что мы удаляем именно столбцы, а не строки):"
   ]
  },
  {
   "cell_type": "code",
   "execution_count": null,
   "id": "7e13bfea",
   "metadata": {},
   "outputs": [],
   "source": [
    "len(data.columns)"
   ]
  },
  {
   "cell_type": "code",
   "execution_count": null,
   "id": "0063d032",
   "metadata": {},
   "outputs": [],
   "source": [
    "data = data.drop([\"Ship\", \"IsAdult\"], axis=1)"
   ]
  },
  {
   "cell_type": "code",
   "execution_count": null,
   "id": "2f96fe82",
   "metadata": {},
   "outputs": [],
   "source": [
    "len(data.columns)"
   ]
  },
  {
   "cell_type": "markdown",
   "id": "2de9b5bc",
   "metadata": {},
   "source": [
    "Мы также можем создать индекс из уже существующего столбца (он пригодится нам чуть позже):"
   ]
  },
  {
   "cell_type": "code",
   "execution_count": null,
   "id": "3676f42c",
   "metadata": {},
   "outputs": [],
   "source": [
    "data = data.set_index(\"PassengerIdReversed\")\n",
    "data.head()"
   ]
  },
  {
   "cell_type": "markdown",
   "id": "db089958",
   "metadata": {},
   "source": [
    "## Изменение данных: `map`, `apply` и `replace`\n",
    "\n",
    "Метод `DataFrame.map()` применяет переданную функцию к каждому элементу `DataFrame`:"
   ]
  },
  {
   "cell_type": "code",
   "execution_count": null,
   "id": "135dab41",
   "metadata": {},
   "outputs": [],
   "source": [
    "data[[\"PassengerId\", \"Pclass\"]].map(lambda value: value - 1)"
   ]
  },
  {
   "cell_type": "markdown",
   "id": "ca6c2e28",
   "metadata": {},
   "source": [
    "Аргументом `Series.map()` может быть как функция, так и _mapping_, например словарь:"
   ]
  },
  {
   "cell_type": "code",
   "execution_count": null,
   "id": "7135e5f3",
   "metadata": {},
   "outputs": [],
   "source": [
    "data[\"Age\"].map(lambda age: age > 16)"
   ]
  },
  {
   "cell_type": "code",
   "execution_count": null,
   "id": "a0500d57",
   "metadata": {},
   "outputs": [],
   "source": [
    "data[\"Sex\"].map({\"female\": \"F\", \"male\": \"M\"})"
   ]
  },
  {
   "cell_type": "markdown",
   "id": "16fb6a4e",
   "metadata": {},
   "source": [
    "Для применения `mapping` к `Series` также можно использовать метод `replace`:"
   ]
  },
  {
   "cell_type": "code",
   "execution_count": null,
   "id": "a073999d",
   "metadata": {},
   "outputs": [],
   "source": [
    "data[\"Embarked\"].replace({\"C\": \"Cherbourg\", \"Q\": \"Queenstown\", \"S\": \"Southampton\"})"
   ]
  },
  {
   "cell_type": "markdown",
   "id": "c17b796d",
   "metadata": {},
   "source": [
    "Метод `DataFrame.apply()` применяет функцию к `DataFrame` вдоль оси, например к каждой строке таблицы:"
   ]
  },
  {
   "cell_type": "code",
   "execution_count": null,
   "id": "24d2c22d",
   "metadata": {},
   "outputs": [],
   "source": [
    "def build_person_description(row: pd.Series) -> str:\n",
    "    return \"Name: {name}, Sex: {sex}, Age: {age}\".format(\n",
    "        name=row[\"Name\"], sex=row[\"Sex\"], age=row[\"Age\"]\n",
    "    )\n",
    "\n",
    "\n",
    "data.apply(build_person_description, axis=1)"
   ]
  },
  {
   "cell_type": "markdown",
   "id": "73fc4eaf",
   "metadata": {},
   "source": [
    "**Примечание:** по возможности избегайте использования функций через `map` и `apply`, поскольку они значительно уступают нативным инструментам по скорости:"
   ]
  },
  {
   "cell_type": "code",
   "execution_count": null,
   "id": "312567e3",
   "metadata": {},
   "outputs": [],
   "source": [
    "%%timeit\n",
    "data[\"Age\"].map(lambda age: age > 16)"
   ]
  },
  {
   "cell_type": "code",
   "execution_count": null,
   "id": "cadbf450",
   "metadata": {},
   "outputs": [],
   "source": [
    "%%timeit\n",
    "data[\"Age\"] > 16"
   ]
  },
  {
   "cell_type": "markdown",
   "id": "44761757",
   "metadata": {},
   "source": [
    "## Разведочный анализ данных\n",
    "\n",
    "Теперь проведем небольшой разведочный анализ данных (_Exploratory Data Analysis_, EDA), чтобы познакомиться с встроенными инструментами Pandas:"
   ]
  },
  {
   "cell_type": "code",
   "execution_count": null,
   "id": "e5ffa224",
   "metadata": {},
   "outputs": [],
   "source": [
    "data.dtypes  # Типы данных. Примечание: Pandas интерпретирует текстовые данные как `object`"
   ]
  },
  {
   "cell_type": "markdown",
   "id": "ba0e9814",
   "metadata": {},
   "source": [
    "Если хочется получить больше информации о данных, например о количестве пропущенных значений (подробнее о них поговорим далее), можно использовать метод `DataFrame.info()`:"
   ]
  },
  {
   "cell_type": "code",
   "execution_count": null,
   "id": "c9777e8b",
   "metadata": {},
   "outputs": [],
   "source": [
    "data.info()"
   ]
  },
  {
   "cell_type": "markdown",
   "id": "f57adc86",
   "metadata": {},
   "source": [
    "### Исследование категориальных признаков"
   ]
  },
  {
   "cell_type": "code",
   "execution_count": null,
   "id": "3c6636ef",
   "metadata": {},
   "outputs": [],
   "source": [
    "data[\"Sex\"].unique()  # Уникальные значения"
   ]
  },
  {
   "cell_type": "code",
   "execution_count": null,
   "id": "9a8c2076",
   "metadata": {},
   "outputs": [],
   "source": [
    "data[\"Sex\"].nunique()  # Количество уникальных значений"
   ]
  },
  {
   "cell_type": "code",
   "execution_count": null,
   "id": "fda2fa0d",
   "metadata": {},
   "outputs": [],
   "source": [
    "data[\n",
    "    \"Sex\"\n",
    "].value_counts()  # Распределение уникальных значений. Поэкспериментируйте с аргументом `normalize`"
   ]
  },
  {
   "cell_type": "code",
   "execution_count": null,
   "id": "7799ad3d",
   "metadata": {},
   "outputs": [],
   "source": [
    "# Кстати, в Pandas есть встроенные инструменты визуализации данных\n",
    "data[\"Sex\"].value_counts().plot.bar()"
   ]
  },
  {
   "cell_type": "markdown",
   "id": "6b020f9b",
   "metadata": {},
   "source": [
    "---"
   ]
  },
  {
   "cell_type": "markdown",
   "id": "d625d12f",
   "metadata": {},
   "source": [
    "### Задание\n",
    "\n",
    "Какие значения принимает признак `\"Pclass\"`? Какое распределение они имеют? Постройте столбчатую диаграмму."
   ]
  },
  {
   "cell_type": "code",
   "execution_count": null,
   "id": "8efe33f9",
   "metadata": {},
   "outputs": [],
   "source": [
    "# YOUR CODE HERE"
   ]
  },
  {
   "cell_type": "markdown",
   "id": "bda23544",
   "metadata": {},
   "source": [
    "---"
   ]
  },
  {
   "cell_type": "markdown",
   "id": "c0979966",
   "metadata": {},
   "source": [
    "### Исследование числовых признаков"
   ]
  },
  {
   "cell_type": "markdown",
   "id": "b993467a",
   "metadata": {},
   "source": [
    "Получить первое впечатление о численных признаках можно с помощью метода `describe`, который генерирует различные статистики данных, включая среднее, стандартное отклонение, минимальное и максимальное значения, а также перцентили:"
   ]
  },
  {
   "cell_type": "code",
   "execution_count": null,
   "id": "289e0922",
   "metadata": {},
   "outputs": [],
   "source": [
    "data.describe()"
   ]
  },
  {
   "cell_type": "code",
   "execution_count": null,
   "id": "53c86755",
   "metadata": {},
   "outputs": [],
   "source": [
    "data.corr(method=\"spearman\", numeric_only=True)  # Корреляция между числовыми признаками"
   ]
  },
  {
   "cell_type": "markdown",
   "id": "394e7414",
   "metadata": {},
   "source": [
    "---"
   ]
  },
  {
   "cell_type": "markdown",
   "id": "3cb97e2a",
   "metadata": {},
   "source": [
    "### Задание\n",
    "\n",
    "Признак `\"PassengerId\"` имеет тип данных `int64`. Является ли он числовым? Почему?"
   ]
  },
  {
   "cell_type": "markdown",
   "id": "5b214bf2",
   "metadata": {},
   "source": [
    "---"
   ]
  },
  {
   "cell_type": "code",
   "execution_count": null,
   "id": "318bdf9a",
   "metadata": {},
   "outputs": [],
   "source": [
    "data[\"Age\"].min()  # Наименьшее значение"
   ]
  },
  {
   "cell_type": "code",
   "execution_count": null,
   "id": "43d2c8b3",
   "metadata": {},
   "outputs": [],
   "source": [
    "data[\"Age\"].max()  # Наибольшее значение"
   ]
  },
  {
   "cell_type": "code",
   "execution_count": null,
   "id": "bfb112ba",
   "metadata": {},
   "outputs": [],
   "source": [
    "data[\"Age\"].mean()  # Среднее значение"
   ]
  },
  {
   "cell_type": "code",
   "execution_count": null,
   "id": "fc3ff92b",
   "metadata": {},
   "outputs": [],
   "source": [
    "data[\"Age\"].median()  # Медиана (0.5-квантиль)"
   ]
  },
  {
   "cell_type": "code",
   "execution_count": null,
   "id": "b0e84743",
   "metadata": {},
   "outputs": [],
   "source": [
    "data[\"Age\"].quantile([0.25, 0.5, 0.75])  # Квантили"
   ]
  },
  {
   "cell_type": "code",
   "execution_count": null,
   "id": "9dde55a3",
   "metadata": {},
   "outputs": [],
   "source": [
    "# data[\"Exam_Score\"].plot.hist()\n",
    "data[\"Age\"].hist()  # Гистограмма распределения"
   ]
  },
  {
   "cell_type": "markdown",
   "id": "dc453b85",
   "metadata": {},
   "source": [
    "---"
   ]
  },
  {
   "cell_type": "markdown",
   "id": "9fc2c7fc",
   "metadata": {},
   "source": [
    "### Задание\n",
    "\n",
    "Опишите распределение признака `\"Fare\"`. Постройте гистограмму."
   ]
  },
  {
   "cell_type": "code",
   "execution_count": null,
   "id": "67350aad",
   "metadata": {},
   "outputs": [],
   "source": [
    "# YOUR CODE HERE"
   ]
  },
  {
   "cell_type": "markdown",
   "id": "fec49e57",
   "metadata": {},
   "source": [
    "---"
   ]
  },
  {
   "cell_type": "markdown",
   "id": "e94cdeed",
   "metadata": {},
   "source": [
    "## Сортировки"
   ]
  },
  {
   "cell_type": "code",
   "execution_count": null,
   "id": "1c3bd91e",
   "metadata": {},
   "outputs": [],
   "source": [
    "data.sort_values(\"Age\")"
   ]
  },
  {
   "cell_type": "code",
   "execution_count": null,
   "id": "42c386b0",
   "metadata": {},
   "outputs": [],
   "source": [
    "data.sort_values(\"Age\", ascending=False)"
   ]
  },
  {
   "cell_type": "code",
   "execution_count": null,
   "id": "115def95",
   "metadata": {},
   "outputs": [],
   "source": [
    "data.sort_index()"
   ]
  },
  {
   "cell_type": "markdown",
   "id": "d53bcc75",
   "metadata": {},
   "source": [
    "## Группировка и агрегирование\n",
    "\n",
    "Часто полезно считать статистики не по всем данным сразу, а по отдельным группам. Для этого в Pandas используется метод `groupby` (аналогичен выражению `GROUP BY` в SQL):"
   ]
  },
  {
   "cell_type": "code",
   "execution_count": null,
   "id": "92978633",
   "metadata": {},
   "outputs": [],
   "source": [
    "grouped = data.groupby([\"Embarked\"])\n",
    "type(grouped)"
   ]
  },
  {
   "cell_type": "markdown",
   "id": "5b32973d",
   "metadata": {},
   "source": [
    "**Примечание:** каждую группу можно рассматривать как отдельный `DataFrame`, поэтому мы легко можем использовать инструменты, которые применяли для EDA.\n",
    "\n",
    "Полный список методов, которые можно применить к `DataFrameGroupBy` можно изучить в [документации](https://pandas.pydata.org/docs/reference/groupby.html). А сейчас рассмотрим некоторые из них:"
   ]
  },
  {
   "cell_type": "code",
   "execution_count": null,
   "id": "4e7c9d24",
   "metadata": {},
   "outputs": [],
   "source": [
    "grouped.size()  # Количество элементов в каждой группе"
   ]
  },
  {
   "cell_type": "code",
   "execution_count": null,
   "id": "d057ca70",
   "metadata": {},
   "outputs": [],
   "source": [
    "# 1. Сгруппируем данные по признаку Sex;\n",
    "# 2. Выберем признак Survived;\n",
    "# 3. Посчитаем распределение значений этого признака внутри групп;\n",
    "# 4. Отсортируем индекс (опционально).\n",
    "data.groupby(\"Sex\")[\"Survived\"].value_counts(normalize=True).sort_index()"
   ]
  },
  {
   "cell_type": "markdown",
   "id": "0f14f5ba",
   "metadata": {},
   "source": [
    "Для расчета агрегированных статистик используется метод `agg`:"
   ]
  },
  {
   "cell_type": "code",
   "execution_count": null,
   "id": "21062aad",
   "metadata": {},
   "outputs": [],
   "source": [
    "# data.groupby(\"Pclass\")[[\"Fare\", \"Survived\"]].mean()\n",
    "data.groupby(\"Pclass\").agg({\"Fare\": \"mean\", \"Survived\": \"mean\"})"
   ]
  },
  {
   "cell_type": "code",
   "execution_count": null,
   "id": "f685ad43",
   "metadata": {},
   "outputs": [],
   "source": [
    "data.groupby(\"Sex\").agg(avg_age=(\"Age\", \"mean\"), std_age=(\"Age\", \"std\"), max_age=(\"Age\", \"max\"))"
   ]
  },
  {
   "cell_type": "markdown",
   "id": "5271cee0",
   "metadata": {},
   "source": [
    "Мы также можем записать агрегированный результат в каждой строке исходной таблицы (по аналогии с _оконными функциями_ в SQL). Для этого используется метод `transform`. Сравните:"
   ]
  },
  {
   "cell_type": "code",
   "execution_count": null,
   "id": "ff83dd5b",
   "metadata": {},
   "outputs": [],
   "source": [
    "grouped.size()"
   ]
  },
  {
   "cell_type": "code",
   "execution_count": null,
   "id": "c78c0af2",
   "metadata": {},
   "outputs": [],
   "source": [
    "grouped.transform(\"size\")"
   ]
  },
  {
   "cell_type": "markdown",
   "id": "bc0d9650",
   "metadata": {},
   "source": [
    "## Объединение данных\n",
    "\n",
    "Часто на практике данные хранятся раздельно. Например, одна таблица может содержать данные об экспрессии генов в нескольких образцах, а другая — характеристики этих генов (метаданные): расположение на хромосоме, альтернативные названия и функции. Для получения полной картины необходимо объединить эти данные.  \n",
    "\n",
    "Другой пример: мы исследуем результаты анализов крови. Первый набор данных получен в медицинском учреждении A и содержит данные о 1000 пациентах, второй — в учреждении B и содержит данные о 500 пациентах. Перед началом работы также имеет смысл объединить эти данные.\n",
    "\n",
    "Подробный материал по объединению данных можно найти по [ссылке](https://pandas.pydata.org/docs/user_guide/merging.html).\n",
    "\n",
    "`pd.concat()` позволяет объединить несколько `Series` или `DataFrame` вдоль выбранной оси (по умолчанию `axis=0`):"
   ]
  },
  {
   "cell_type": "code",
   "execution_count": null,
   "id": "0641b6a5",
   "metadata": {},
   "outputs": [],
   "source": [
    "part1 = pd.DataFrame(\n",
    "    {\n",
    "        \"A\": [\"A0\", \"A1\", \"A2\", \"A3\"],\n",
    "        \"B\": [\"B0\", \"B1\", \"B2\", \"B3\"],\n",
    "        \"C\": [\"C0\", \"C1\", \"C2\", \"C3\"],\n",
    "        \"D\": [\"D0\", \"D1\", \"D2\", \"D3\"],\n",
    "    },\n",
    "    index=[0, 1, 2, 3],\n",
    ")\n",
    "part2 = pd.DataFrame(\n",
    "    {\n",
    "        \"A\": [\"A4\", \"A5\", \"A6\", \"A7\"],\n",
    "        \"B\": [\"B4\", \"B5\", \"B6\", \"B7\"],\n",
    "        # Часть признаков может отсутствовать\n",
    "        # \"C\": [\"C4\", \"C5\", \"C6\", \"C7\"],\n",
    "        \"D\": [\"D4\", \"D5\", \"D6\", \"D7\"],\n",
    "    },\n",
    "    index=[4, 5, 6, 7],\n",
    ")\n",
    "pd.concat([part1, part2])"
   ]
  },
  {
   "cell_type": "markdown",
   "id": "f9883a21",
   "metadata": {},
   "source": [
    "Недостающие значения Pandas заполнил `NaN`, о них поговорим в следующем разделе. Теперь вернемся к нашему датасету и добавим в него описания портов:"
   ]
  },
  {
   "cell_type": "code",
   "execution_count": null,
   "id": "3acf54de",
   "metadata": {},
   "outputs": [],
   "source": [
    "ports = pd.read_csv(\"ports.csv\")\n",
    "ports"
   ]
  },
  {
   "cell_type": "markdown",
   "id": "0160281b",
   "metadata": {},
   "source": [
    "Заметим, что в обеих таблицах присутствует столбец `\"Embarked\"`. Мы можем сопоставить значения с помощью метода `DataFrame.merge()` (аналог `JOIN` в SQL):"
   ]
  },
  {
   "cell_type": "code",
   "execution_count": null,
   "id": "1f31503b",
   "metadata": {},
   "outputs": [],
   "source": [
    "data.merge(ports, how=\"left\", on=\"Embarked\")"
   ]
  },
  {
   "cell_type": "markdown",
   "id": "c5c486fd",
   "metadata": {},
   "source": [
    "Аргумент `how=\"left\"` означает, что каждой строке в левой таблице (`data`) мы должны сопоставить строку из правой (`ports`). Если в правой таблице есть лишние ключи (`B`), они будут проигнорированы.\n",
    "\n",
    "Метод `DataFrame.join()` обычно используется для объединения по индексу, в остальном его поведение схоже с `DataFrame.merge()`."
   ]
  },
  {
   "cell_type": "markdown",
   "id": "ab82f0c6",
   "metadata": {},
   "source": [
    "## Пропущенные значения\n",
    "\n",
    "До этого момента мы работали с данными так, словно в них отсутствовали _пропущенные значения_. На практике такое встречается редко — данные из разных источников могут содержать разное количество признаков, а часть информации может быть утеряна.\n",
    "\n",
    "Пропущенные значения (например, пустые ячейки в `csv` файле) Pandas заменяет на `NaN` (_Not a Number_). По техническим причинам значения `NaN` всегда имеют тип данных `float64`.\n",
    "\n",
    "Хорошей привычкой является проверка данных на наличие пропущенных значений перед началом работы. Сделать это можно с помощью метода `isna`:"
   ]
  },
  {
   "cell_type": "code",
   "execution_count": null,
   "id": "969d9b47",
   "metadata": {},
   "outputs": [],
   "source": [
    "data.isna()  # Проверим содержимое каждой ячейки"
   ]
  },
  {
   "cell_type": "code",
   "execution_count": null,
   "id": "a49c9c5b",
   "metadata": {},
   "outputs": [],
   "source": [
    "data.isna().sum(axis=0)  # Посчитаем количество NaN в каждом столбце"
   ]
  },
  {
   "cell_type": "markdown",
   "id": "f8f0eb45",
   "metadata": {},
   "source": [
    "Поскольку большинство моделей в машинном обучении не способны напрямую работать с пропущенными значениями, нам необходимо их предобработать. Самый простой способ избавиться от `NaN` — удалить строки, которые содержат пропущенные значения, с помощью метода `dropna`:"
   ]
  },
  {
   "cell_type": "code",
   "execution_count": null,
   "id": "983633fe",
   "metadata": {},
   "outputs": [],
   "source": [
    "data.dropna()"
   ]
  },
  {
   "cell_type": "markdown",
   "id": "c7c150b5",
   "metadata": {},
   "source": [
    "Правда, в нашем случае мы удалим больше половины данных из-за столбца `\"Cabin\"`. Иными словами, удаление пропущенных значений имеет смысл лишь в нескольких случаях:\n",
    "- очень малое количество строк содержит пропущенные значения (удаление не приведет к потере значительной части данных);\n",
    "- почти все значения в столбце отсутствуют (можно удалить весь столбец);\n",
    "- значения пропущены в наиболее важных признаках (например, мы хотим обучить модель для предсказания ожирения, но информация о росте и весе для некоторого пациента отсутствует)."
   ]
  },
  {
   "cell_type": "code",
   "execution_count": null,
   "id": "cb1efc14",
   "metadata": {},
   "outputs": [],
   "source": [
    "data = data.drop(\"Cabin\", axis=1).dropna()\n",
    "data"
   ]
  },
  {
   "cell_type": "code",
   "execution_count": null,
   "id": "2068b369",
   "metadata": {},
   "outputs": [],
   "source": [
    "data.isna().sum(axis=0)"
   ]
  },
  {
   "cell_type": "markdown",
   "id": "9623f01f",
   "metadata": {},
   "source": [
    "**Примечание:** пропущенные значения в категориальных признаках часто могут быть закодированы отдельно, например, мы могли бы обнаружить в столбце значение `\"UNKNOWN\"`."
   ]
  },
  {
   "cell_type": "markdown",
   "id": "9375d642",
   "metadata": {},
   "source": [
    "## Практика\n",
    "\n",
    "Тренироваться будем на датасете [Student Performance Factors](https://www.kaggle.com/datasets/lainguyn123/student-performance-factors/data)."
   ]
  },
  {
   "cell_type": "markdown",
   "id": "c16d83d6",
   "metadata": {},
   "source": [
    "### Задание \n",
    "\n",
    "Прочитайте данные из файла `StudentPerformanceFactors.csv` в `DataFrame`. Сколько строк и столбцов в полученной таблице? Выведите первые 10 строк."
   ]
  },
  {
   "cell_type": "code",
   "execution_count": null,
   "id": "626fa1c7",
   "metadata": {},
   "outputs": [],
   "source": [
    "# YOUR CODE HERE"
   ]
  },
  {
   "cell_type": "markdown",
   "id": "0e9f3452",
   "metadata": {},
   "source": [
    "---"
   ]
  },
  {
   "cell_type": "markdown",
   "id": "4b2d09e4",
   "metadata": {},
   "source": [
    "### Задание\n",
    "\n",
    "Содержат ли данные пропущенные значения? Если содержат, попробуйте от них избавиться."
   ]
  },
  {
   "cell_type": "code",
   "execution_count": null,
   "id": "a6c3cf51",
   "metadata": {},
   "outputs": [],
   "source": [
    "# YOUR CODE HERE"
   ]
  },
  {
   "cell_type": "markdown",
   "id": "63c70c9c",
   "metadata": {},
   "source": [
    "---"
   ]
  },
  {
   "cell_type": "markdown",
   "id": "493e543d",
   "metadata": {},
   "source": [
    "### Задание\n",
    "\n",
    "Сколько студентов мужского пола проживает вблизи школы и тратит на учебу более 25 часов в неделю?"
   ]
  },
  {
   "cell_type": "code",
   "execution_count": null,
   "id": "68f05b8a",
   "metadata": {},
   "outputs": [],
   "source": [
    "# YOUR CODE HERE"
   ]
  },
  {
   "cell_type": "markdown",
   "id": "fc30f644",
   "metadata": {},
   "source": [
    "---"
   ]
  },
  {
   "cell_type": "markdown",
   "id": "428b5fa7",
   "metadata": {},
   "source": [
    "### Задание\n",
    "\n",
    "Какие значения принимают категориальные и числовые признаки в датасете? Проведите EDA. Какой числовой признак сильнее всего коррелирует с `\"Exam_Score\"`?"
   ]
  },
  {
   "cell_type": "code",
   "execution_count": null,
   "id": "7f1b552b",
   "metadata": {},
   "outputs": [],
   "source": [
    "# YOUR CODE HERE"
   ]
  },
  {
   "cell_type": "markdown",
   "id": "1323f8ab",
   "metadata": {},
   "source": [
    "---"
   ]
  },
  {
   "cell_type": "markdown",
   "id": "fd5bab5a",
   "metadata": {},
   "source": [
    "### Задание\n",
    "\n",
    "Кто в среднем лучше справился с экзаменом: юноши или девушки?"
   ]
  },
  {
   "cell_type": "code",
   "execution_count": null,
   "id": "c2ed70ec",
   "metadata": {},
   "outputs": [],
   "source": [
    "# YOUR CODE HERE"
   ]
  },
  {
   "cell_type": "markdown",
   "id": "c2637057",
   "metadata": {},
   "source": [
    "Кто в среднем лучше справился с экзаменом: учащиеся без доступа к интернету или с доступом?"
   ]
  },
  {
   "cell_type": "code",
   "execution_count": null,
   "id": "4a5cf7a3",
   "metadata": {},
   "outputs": [],
   "source": [
    "# YOUR CODE HERE"
   ]
  }
 ],
 "metadata": {
  "kernelspec": {
   "display_name": "hse-fbb-ml-course",
   "language": "python",
   "name": "python3"
  },
  "language_info": {
   "codemirror_mode": {
    "name": "ipython",
    "version": 3
   },
   "file_extension": ".py",
   "mimetype": "text/x-python",
   "name": "python",
   "nbconvert_exporter": "python",
   "pygments_lexer": "ipython3",
   "version": "3.12.3"
  }
 },
 "nbformat": 4,
 "nbformat_minor": 5
}
